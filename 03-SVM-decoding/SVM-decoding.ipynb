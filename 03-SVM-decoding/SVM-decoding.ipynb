{
 "cells": [
  {
   "cell_type": "markdown",
   "metadata": {},
   "source": [
    "# Support Vector Machnes (SVM) decoding and surrogates"
   ]
  },
  {
   "cell_type": "markdown",
   "metadata": {},
   "source": [
    "<div class=\"warning\" style='padding:0.5em;background-color:#f1f1f1;border:1px solid black;width:95%'>\n",
    "\n",
    "Lesson time: 60 m   \n",
    "Contributors: Bryan Souza, Davide Spalla\n",
    "\n",
    "---\n",
    "### In this lesson you will learn:\n",
    "- How to train a Support Vector Machine (SVM) to decode the presence of absence of a stimulus from neural activity \n",
    "- What the bias and variance of a classifier are\n",
    "- How to assess the performance of a classifier using shuffling methods to create surrogate data\n",
    "\n",
    "</div>\n"
   ]
  },
  {
   "cell_type": "markdown",
   "metadata": {},
   "source": [
    "## Introduction\n",
    "---\n",
    "In this lesson we will look at Support Vector Machines, a widely used group of classification algorithms, and how they can be used to decode the identity of a presented stimulus from the patterns of neural activity."
   ]
  },
  {
   "cell_type": "markdown",
   "metadata": {},
   "source": [
    "## Support Vector Machines (SVMs)\n",
    "---\n",
    "The SVM is a machine learning algorithm that learns to predict to which of differen classes each data points belong.  \n",
    "To get some intuition about the algorithms, we will start with the case of the *linear SVM*  with two classes\n",
    "\n",
    "**Linear SVM**  \n",
    "Let our data consist of $N$ pairs $(x_{i},y_{i})$ with our set of features $x_{i} \\in R^{P}$ and the class labels $y_{i} \\in \\{-1,1\\}$.\n",
    "First, let's imagine that our data is linearly separable, like in the image below  \n",
    "IMAGE\n",
    "In this case, we can draw a hyperplane (the *decision boundary*) that perfectly separates the two classes in many different ways. \n",
    "We look for the linear decision bounday\n",
    "\n",
    "$$x^{T}w+b=0$$\n",
    "\n",
    "such that the **margin** $M$ between the two classes is maximal.\n",
    "To do so, we want to find the largest $M$ such that, for every data point in our set, the *signed distance* from the boundary $y_{i}(x_{i}^{T}w+b) is larger than $M$.\n",
    "This amounts to solve the following maximization problem:\n",
    "\n",
    "$$max_{w,b,||w||=1} M$$\n",
    "with constraints:\n",
    "$$y_{i}(x_{i}^{T}w+b) \\geq M\\; \\forall i$$\n",
    "\n",
    "\n",
    "**Non-separable data**  \n",
    "If the data are not linearly separable, such as in the example below, the margin problem does not have a solution.  \n",
    "IMAGE  \n",
    "However, we can soften our margin constraint by introducting a new set of $N$ variables $\\xi_{i}$, often called *slacks*, to quantify by how much our margin constraint is violated.  \n",
    "We can then require \n",
    "$$y_{i}(x_{i}^{T}w+b) \\geq M(1-\\xi_{i})\\; \\forall i$$\n",
    "with:\n",
    "$$\\xi_{i}\\geq 0 ,\\: \\sum_{\\xi_{i}} \\leq K$$\n",
    "\n",
    "$K$ quantifies the total amount of slack that we want to allow to our system: a larger $K$ allows for more margin violation, a lower $K$ enforces the margin more striclty.  \n",
    "You can think of $\\xi_{i}$ as the *relative* amount of margin violation for point $i$.\n",
    "Note that each $\\xi_{i}>1$ corresponds to a misclassification of the corresponding data point.  \n",
    "If we drop the norm constraint on $w$ and define $M=1/||w||$, we obtain the following minimization problem:\n",
    "\n",
    "$$min ||w||$$\n",
    "with contraints:\n",
    "$$y_{i}(x_{i}^{T}w+b) \\geq (1-\\xi_{i})$$\n",
    "$$\\xi_{i}\\geq 0 \\; \\forall i,\\: \\sum_{\\xi_{i}} \\leq K$$\n",
    "\n",
    "\n",
    "\n",
    "The optimization problems we encountered are quadratic with linear constraint, which makes them convex optimization problem.\n",
    "The soultion procedure is beyound the scope of this lesson, but if you are interested you can find more in Chapter 12 of [The elements of statistical learning](https://hastie.su.domains/ElemStatLearn/#:~:text=Elements%20of%20Statistical%20Learning%3A%20data%20mining%2C%20inference%2C%20and%20prediction.) (free pdf available at the link).  \n",
    "In our lesson we will use the [sklearn](https://scikit-learn.org/stable/modules/svm.html) implementation of support vector machines.\n",
    "Let's look at a minimal example, before moving to some neuroscience.\n",
    "\n",
    "\n",
    "\n",
    "\n",
    "\n",
    "\n",
    "\n",
    "\n",
    "\n",
    "\n"
   ]
  },
  {
   "cell_type": "markdown",
   "metadata": {},
   "source": [
    "### Note box: Bias-Variance decomposition"
   ]
  },
  {
   "cell_type": "markdown",
   "metadata": {},
   "source": [
    "### Example: support vector machine"
   ]
  },
  {
   "cell_type": "markdown",
   "metadata": {},
   "source": [
    "### Example: decoding the stimulus identity from neural activity\n",
    "---"
   ]
  },
  {
   "cell_type": "code",
   "execution_count": 52,
   "metadata": {},
   "outputs": [],
   "source": [
    "import pickle\n",
    "import numpy as np\n",
    "import matplotlib.pyplot as plt\n",
    "import seaborn as sns"
   ]
  },
  {
   "cell_type": "code",
   "execution_count": 5,
   "metadata": {},
   "outputs": [],
   "source": [
    "# import data\n",
    "with open('data/simulated_data1.pickle', 'rb') as handle:\n",
    "    data = pickle.load(handle)\n",
    "\n",
    "spike_times = data['spike_times']\n",
    "stim_onsets = data['stim_onsets']\n",
    "stim_type = data['stim_type']\n",
    "stim_duration = data['stim_duration']\n"
   ]
  },
  {
   "cell_type": "markdown",
   "metadata": {},
   "source": [
    "We bin the data in 100 ms wide bin, around the presentation of each stimulus"
   ]
  },
  {
   "cell_type": "code",
   "execution_count": 9,
   "metadata": {},
   "outputs": [],
   "source": [
    "onset = -1 # in seconds before stimulus onset\n",
    "offset = 1 # in second after stimulus offset\n",
    "\n",
    "binwidth = 0.1 # in seconds (100 ms)\n",
    "bins = np.arange(onset,stim_duration+offset+binwidth,binwidth)\n"
   ]
  },
  {
   "cell_type": "code",
   "execution_count": 39,
   "metadata": {},
   "outputs": [],
   "source": [
    "onset = 1 # in seconds before stimulus onset\n",
    "offset = 1 # in second after stimulus offset\n",
    "\n",
    "binwidth = 0.1 # in seconds (100 ms)\n",
    "bins = np.arange(-onset,stim_duration+offset+binwidth,binwidth)\n",
    "\n",
    "n_cells = len(spike_times)\n",
    "n_trials= len(stim_type)\n",
    "\n",
    "X = np.zeros((n_cells,n_trials,len(bins)-1));\n",
    "for cell in range(n_cells):    \n",
    "    for trial in range(n_trials):\n",
    "\n",
    "        # selects spikes that are in trial\n",
    "        sp_idx = np.logical_and(spike_times[cell]>stim_onsets[trial]-onset,\n",
    "                 spike_times[cell]<stim_onsets[trial]+stim_duration+offset)\n",
    "        \n",
    "        # centers spike times around stimulus onset\n",
    "        sp_cntr = spike_times[cell][sp_idx]-stim_onsets[trial]\n",
    "        #bins spikes\n",
    "        spike_count,_ = np.histogram(sp_cntr,bins)\n",
    "        X[cell,trial,:] = spike_count\n"
   ]
  },
  {
   "cell_type": "code",
   "execution_count": 59,
   "metadata": {},
   "outputs": [
    {
     "data": {
      "text/plain": [
       "<matplotlib.image.AxesImage at 0x7fc659a700d0>"
      ]
     },
     "execution_count": 59,
     "metadata": {},
     "output_type": "execute_result"
    },
    {
     "data": {
      "image/png": "[encoded data removed]",
      "text/plain": [
       "<Figure size 432x288 with 2 Axes>"
      ]
     },
     "metadata": {
      "needs_background": "light"
     },
     "output_type": "display_data"
    },
    {
     "data": {
      "image/png": "[encoded data removed]",
      "text/plain": [
       "<Figure size 288x360 with 1 Axes>"
      ]
     },
     "metadata": {
      "needs_background": "light"
     },
     "output_type": "display_data"
    }
   ],
   "source": [
    "sns.heatmap(X[3][stim_type==1])\n",
    "plt.matshow(X[3][stim_type==2])\n"
   ]
  },
  {
   "cell_type": "code",
   "execution_count": 70,
   "metadata": {},
   "outputs": [],
   "source": [
    "from sklearn.model_selection import KFold\n",
    "from sklearn import svm\n",
    "\n",
    "\n",
    "performance = []\n",
    "for time_bin in range(X.shape[-1]):\n",
    "        # setting 2-fold cross validation\n",
    "        kf = KFold(n_splits=2)\n",
    "        KFold(n_splits=2, random_state=None, shuffle=False)\n",
    "        fold_performance = []\n",
    "        for train_index, test_index in kf.split(stim_type):\n",
    "\n",
    "                X_train, X_test = X[:,train_index,time_bin].T, X[:,test_index,time_bin].T\n",
    "                y_train, y_test = stim_type[train_index], stim_type[test_index]\n",
    "\n",
    "                clf = svm.SVC()\n",
    "                clf.fit(X_train, y_train)\n",
    "                fold_performance.append(clf.score(X_test,y_test))\n",
    "\n",
    "        performance.append(np.mean(fold_performance))\n",
    "\n"
   ]
  },
  {
   "cell_type": "code",
   "execution_count": 73,
   "metadata": {},
   "outputs": [
    {
     "data": {
      "text/plain": [
       "[<matplotlib.lines.Line2D at 0x7fc609abac40>]"
      ]
     },
     "execution_count": 73,
     "metadata": {},
     "output_type": "execute_result"
    },
    {
     "data": {
      "image/png": "[encoded data removed]",
      "text/plain": [
       "<Figure size 432x288 with 1 Axes>"
      ]
     },
     "metadata": {
      "needs_background": "light"
     },
     "output_type": "display_data"
    }
   ],
   "source": [
    "plt.plot(bins[:-1],performance)"
   ]
  },
  {
   "cell_type": "markdown",
   "metadata": {},
   "source": [
    "## Assessing significance with surrogate data\n",
    "---\n"
   ]
  },
  {
   "cell_type": "markdown",
   "metadata": {},
   "source": [
    "### Example: computing significance on decoding performance\n",
    "---"
   ]
  },
  {
   "cell_type": "markdown",
   "metadata": {},
   "source": [
    "### Note box: Linear classifier for neural data\n",
    "\n",
    "- SVM, logistic regression, LDA\n",
    "- Interpretation of classifier components, collective activity"
   ]
  },
  {
   "cell_type": "markdown",
   "metadata": {},
   "source": [
    "<div class=\"warning\" style='padding:0.5em; background-color:#f1f1f1;border:1px solid black;width:95%'>\n",
    "\n",
    "### Key points \n"
   ]
  },
  {
   "cell_type": "markdown",
   "metadata": {},
   "source": [
    "<div class=\"warning\" style='padding:0.5em; background-color:#f1f1f1;border:1px solid black;width:95%'>\n",
    "\n",
    "### References and resources\n",
    "\n",
    "**Books & papers**\n",
    "\n",
    "**Websites & blogposts**\n",
    "\n",
    "**Software**\n",
    "\n",
    "\n"
   ]
  },
  {
   "cell_type": "markdown",
   "metadata": {},
   "source": [
    "## Exercises\n",
    "You can find the exercises for this lessons in [exercises.ipynb](./exercises.ipynb)"
   ]
  }
 ],
 "metadata": {
  "kernelspec": {
   "display_name": "Python 3.8.8 ('base')",
   "language": "python",
   "name": "python3"
  },
  "language_info": {
   "codemirror_mode": {
    "name": "ipython",
    "version": 3
   },
   "file_extension": ".py",
   "mimetype": "text/x-python",
   "name": "python",
   "nbconvert_exporter": "python",
   "pygments_lexer": "ipython3",
   "version": "3.8.8"
  },
  "vscode": {
   "interpreter": {
    "hash": "ec757111aa82fc412dab5a41ba1a33fdb6db5c8112df3ff06fec0dbff050b412"
   }
  }
 },
 "nbformat": 4,
 "nbformat_minor": 4
}
