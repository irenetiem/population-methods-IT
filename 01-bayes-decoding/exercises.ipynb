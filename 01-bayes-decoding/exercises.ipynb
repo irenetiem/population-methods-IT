{
  "cells": [
    {
      "cell_type": "markdown",
      "metadata": {
        "id": "nxlXUtJEg1xI"
      },
      "source": [
        "# Exercises"
      ]
    },
    {
      "cell_type": "code",
      "source": [
        "# get all files from the notebook here\n",
        "!git clone https://github.com/irenetiem/population-methods-IT\n",
        "\n",
        "import pickle\n",
        "import numpy as np\n",
        "import ipywidgets as widgets\n",
        "from ipywidgets import interact\n",
        "import matplotlib.pyplot as plt\n",
        "from tqdm import tqdm\n",
        "import seaborn as sns\n",
        "from scipy.stats import pearsonr\n",
        "import sys\n",
        "import os\n",
        "sys.path.append(os.path.abspath(\"/population-methods-IT/blob/main/01-bayes-decoding/bayes-decoding.ipynb\"))\n",
        "# from utils import download_data\n",
        "\n",
        "import urllib.request\n",
        "from os import remove\n",
        "import zipfile\n",
        "from pathlib import Path\n",
        "\n",
        "\n",
        "def download_data(url):\n",
        "\n",
        "    if url.endswith('download'):\n",
        "        URL = url\n",
        "    else:\n",
        "        URL = '/'.join((url, 'download'))\n",
        "\n",
        "    if URL:\n",
        "        response = urllib.request.urlopen(URL)\n",
        "        data = response.read()\n",
        "        response.close()\n",
        "\n",
        "        with open('data.zip', 'wb') as f:\n",
        "            f.write(data)\n",
        "\n",
        "    with zipfile.ZipFile('data.zip', 'r') as zip_ref:\n",
        "        zip_ref.extractall()\n",
        "\n",
        "    remove('data.zip')\n",
        "\n",
        "sns.set_theme(context='notebook',style='white',font_scale=1,\n",
        "              rc = {'axes.spines.top':False,'axes.spines.right':False})"
      ],
      "metadata": {
        "id": "hc-fnVYejhYD",
        "outputId": "7838c458-5d6f-4f17-8b95-1b39da6da156",
        "colab": {
          "base_uri": "https://localhost:8080/"
        }
      },
      "execution_count": 9,
      "outputs": [
        {
          "output_type": "stream",
          "name": "stdout",
          "text": [
            "fatal: destination path 'population-methods-IT' already exists and is not an empty directory.\n"
          ]
        }
      ]
    },
    {
      "cell_type": "code",
      "source": [
        "download_data('https://surfdrive.surf.nl/files/index.php/s/TliAW2xObyy0keu')"
      ],
      "metadata": {
        "id": "Af3DzGicqH7q"
      },
      "execution_count": 11,
      "outputs": []
    },
    {
      "cell_type": "code",
      "source": [
        "#code: data import\n",
        "data_file = 'data/linear_track_data.pickle'\n",
        "with open(data_file, 'rb') as handle:\n",
        "    data = pickle.load(handle)\n",
        "\n",
        "x,t,spikes = data['x'],data['t'],data['spikes']\n",
        "track_length = data['track_length']\n",
        "fps = data['fps']\n",
        "n_cells = len(spikes)\n",
        "\n",
        "def plot_unit(i):\n",
        "    plt.plot(t, x)\n",
        "    plt.plot(spikes[i], np.interp(spikes[i], t, x), 'r.')\n",
        "\n",
        "interact(plot_unit, i = widgets.IntSlider(min=0, max=(n_cells-1), value=0))"
      ],
      "metadata": {
        "id": "7cdk94JQqI7N",
        "outputId": "197201e3-1231-49f5-e38a-ce1275604b9b",
        "colab": {
          "base_uri": "https://localhost:8080/",
          "height": 568,
          "referenced_widgets": [
            "d0e3261e117645b394d5037f09e3701d",
            "bc07420daa554a8b94dc3c94d0ad87f0",
            "7e09ce511a6b4d3b9408eaad6311feb0",
            "b6cbfe5802fb4dd084d74e399f47f77f",
            "c1b9f7290ef94740bc4451d2b04eb1b0",
            "f56f23122e884d11ac76a9d345bbdc36",
            "39239a2a21cb4e94a0e483cbc9bc4ec5"
          ]
        }
      },
      "execution_count": 12,
      "outputs": [
        {
          "output_type": "display_data",
          "data": {
            "text/plain": [
              "interactive(children=(IntSlider(value=0, description='i', max=99), Output()), _dom_classes=('widget-interact',…"
            ],
            "application/vnd.jupyter.widget-view+json": {
              "version_major": 2,
              "version_minor": 0,
              "model_id": "d0e3261e117645b394d5037f09e3701d"
            }
          },
          "metadata": {}
        },
        {
          "output_type": "execute_result",
          "data": {
            "text/plain": [
              "<function __main__.plot_unit(i)>"
            ],
            "text/html": [
              "<div style=\"max-width:800px; border: 1px solid var(--colab-border-color);\"><style>\n",
              "      pre.function-repr-contents {\n",
              "        overflow-x: auto;\n",
              "        padding: 8px 12px;\n",
              "        max-height: 500px;\n",
              "      }\n",
              "\n",
              "      pre.function-repr-contents.function-repr-contents-collapsed {\n",
              "        cursor: pointer;\n",
              "        max-height: 100px;\n",
              "      }\n",
              "    </style>\n",
              "    <pre style=\"white-space: initial; background:\n",
              "         var(--colab-secondary-surface-color); padding: 8px 12px;\n",
              "         border-bottom: 1px solid var(--colab-border-color);\"><b>plot_unit</b><br/>def plot_unit(i)</pre><pre class=\"function-repr-contents function-repr-contents-collapsed\" style=\"\"><a class=\"filepath\" style=\"display:none\" href=\"#\">/content/&lt;ipython-input-12-3190465076&gt;</a>&lt;no docstring&gt;</pre></div>"
            ]
          },
          "metadata": {},
          "execution_count": 12
        }
      ]
    },
    {
      "cell_type": "markdown",
      "metadata": {
        "id": "afVd_GMYg1xP"
      },
      "source": [
        "## Exercise 1\n",
        "---\n",
        "\n",
        "You can find below the code that was used to generate the activity of place cells on a linear track.\n",
        "Use the code and the decoding procedure you lerned about in the lesson to explore how different features of the data impact our ability to decode position.\n",
        "In particular:\n",
        "\n",
        "A - Try to use different fractions of our data samples. How does the median error change when the the number of available sample gets larger? You do not need to re-generate any data, just randomly sub-sample the data to different fractions.\n",
        "\n",
        "B - How many place cells do we need to reliably decode position? Try to re-do the decoding using only 10 cell, then 20, and so on. How does the median error change? Does it reach an asymptote? (Also in this case, you do not need to re-generate the data, you can just select a random subset of cells each time)\n",
        "\n",
        "C - Generate new data using the code below, changing the firing rate noise (changing the value of the variable `noise firing_rate`). How does this noise impact the decoding?"
      ]
    },
    {
      "cell_type": "markdown",
      "metadata": {
        "id": "cTMMEG3ig1xV"
      },
      "source": [
        "## Exercise 2\n",
        "---\n",
        "In the loop implementation of the decoder, we used `poisson.logpmf(k,mu)` to calculate the log probability of observing $k$ spikes given an average firing rate of $\\mu$.\n",
        "This is mathematically equivalent to `np.log(poisson.pmf(k,mu))`, in which we calculate the probability, and then take the log.\n",
        "\n",
        "\n",
        "Re-run the decoding substituting this expression:\n",
        "\n",
        "```\n",
        "posterior[i] = sum(np.log(poisson.pmf(spikes_count[t_bin,:],firing_rate_maps[:,i]/fps)+pow(1,-15)))\n",
        "```\n",
        "\n",
        "To the line we are using to calculate the posterior.\n",
        "Do you see any difference in the results? What do you think this is due to?\n",
        "\n",
        "\n"
      ]
    },
    {
      "cell_type": "markdown",
      "metadata": {
        "id": "f83tl_5rg1xX"
      },
      "source": [
        "## Exercise 3\n",
        "---\n",
        "A - Estimate the quality of the sequence detection methods we saw in the lesson. How many false poistive does it find? How many false negatives?\n",
        "\n",
        "B - Investigate the effect of `noise_x_react` and `noise_t_react` on the false positive rate and the false negative rate of our detection procedure.\n",
        "\n",
        "C - What kind of sequence can our methods detect? What kind of activity, despide being sequential, could escape our detection method? Would you have an idea for a different method for sequence detection?\n"
      ]
    },
    {
      "cell_type": "markdown",
      "metadata": {
        "id": "TbXzMhuFg1xY"
      },
      "source": [
        "### Code for data generation"
      ]
    },
    {
      "cell_type": "code",
      "execution_count": 2,
      "metadata": {
        "id": "4dzzon9hg1xa"
      },
      "outputs": [],
      "source": [
        "import numpy as np\n",
        "import scipy\n",
        "import scipy.stats\n",
        "import scipy.io\n",
        "import matplotlib\n",
        "import matplotlib.pyplot as plt\n",
        "\n",
        "%matplotlib inline\n",
        "plt.rcParams['figure.figsize'] = [10, 5]\n",
        "from ipywidgets import interact\n",
        "import ipywidgets as widgets\n",
        "\n",
        "\n",
        "track_length = 200. # the length of our linear track (eg in centimeter)\n",
        "average_firing_rate = 5 # the peak firing rate, averaged across the population\n",
        "n_cells = 100 # how many cells we are recording\n",
        "pf_centers = np.random.rand(n_cells) * track_length # the centers of the place fields for all cells drawn randomly with a uniform distribution on the track\n",
        "pf_size = np.random.gamma(10, size=n_cells) # the size (width) of the place fields, drawn randomly from a gamma distribution\n",
        "pf_rate = np.random.exponential(scale=average_firing_rate, size=n_cells) # the peak firing rate for each cell, drawn from an exponential distribution"
      ]
    },
    {
      "cell_type": "code",
      "execution_count": 3,
      "metadata": {
        "id": "U_ULy5wTg1xc"
      },
      "outputs": [],
      "source": [
        "bins = np.arange(0., 200.)\n",
        "true_firing_rate_maps = np.zeros((n_cells, len(bins)))\n",
        "for i in range(n_cells):\n",
        "    true_firing_rate_maps[i,:] = pf_rate[i] * np.exp(-((bins-pf_centers[i])**2)/(2*pf_size[i]**2))"
      ]
    },
    {
      "cell_type": "code",
      "execution_count": 4,
      "metadata": {
        "id": "sXnESqVqg1xd"
      },
      "outputs": [],
      "source": [
        "# GENERATE TRAJECTORY\n",
        "\n",
        "n_runs = 10\n",
        "use_stops = False\n",
        "av_running_speed = 10 # the average running speed (in cm/s)\n",
        "fps = 10 # the number of \"video frames\" per second\n",
        "running_speed_a = np.random.chisquare(10, size=n_runs) # running speed in the two directions\n",
        "running_speed_b = np.random.chisquare(10, size=n_runs)\n",
        "\n",
        "stopping_time_a = np.random.chisquare(15, size=n_runs) # the time the mouse will spend at the two ends of the track\n",
        "stopping_time_b = np.random.chisquare(15, size=n_runs)\n",
        "\n",
        "x = np.array([])\n",
        "\n",
        "\n",
        "for i in range(n_runs):\n",
        "    stop1 = np.ones((int(stopping_time_a[i]*fps),)) * 0.\n",
        "    run_length = len(bins) * fps / running_speed_a[i]\n",
        "    run1 = np.linspace(0., float(len(bins)-1), int(run_length))\n",
        "    stop2 = np.ones((int(stopping_time_b[i]*fps),)) * (len(bins)-1.)\n",
        "    run_length = len(bins) * fps / running_speed_b[i]\n",
        "    run2 = np.linspace(len(bins)-1., 0., int(run_length))\n",
        "    if use_stops:\n",
        "        x = np.concatenate((x, stop1, run1, stop2, run2))\n",
        "    else:\n",
        "         x = np.concatenate((x, run1, run2))\n",
        "t = np.arange(len(x))/fps"
      ]
    },
    {
      "cell_type": "code",
      "execution_count": 5,
      "metadata": {
        "id": "GzzqsPXXg1xe"
      },
      "outputs": [],
      "source": [
        "sampling_rate = 10000.\n",
        "t_sampling = np.arange(0, t[-1], 1. / sampling_rate)\n",
        "x_sampling = np.floor(np.interp(t_sampling, t, x))\n",
        "noise_firing_rate = 0.1 # the baseline noise firing rate\n",
        "spikes = []\n",
        "\n",
        "for i in range(n_cells):\n",
        "    inst_rate = true_firing_rate_maps[i,x_sampling.astype(np.int32)] + noise_firing_rate\n",
        "    spikes_loc = np.random.poisson(inst_rate/sampling_rate)\n",
        "    sp = np.argwhere(spikes_loc)\n",
        "    t_sp = t_sampling[sp]\n",
        "    spikes.append(t_sp)"
      ]
    },
    {
      "cell_type": "code",
      "execution_count": 10,
      "metadata": {
        "id": "hIjJStO5g1xf"
      },
      "outputs": [],
      "source": [
        "import pickle\n",
        "\n",
        "file_name = 'linear_track_data.pickle' # change this name when you save new data\n",
        "\n",
        "out_data = {}\n",
        "out_data['x'] = x\n",
        "out_data['t'] = t\n",
        "out_data['spikes'] = spikes\n",
        "out_data['track_length'] = track_length\n",
        "out_data['fps'] = fps\n",
        "\n",
        "with open('/content/'+file_name,'wb') as f:\n",
        "    pickle.dump(out_data,f)"
      ]
    },
    {
      "cell_type": "code",
      "execution_count": null,
      "metadata": {
        "id": "ZGOqqLLUg1xf"
      },
      "outputs": [],
      "source": []
    }
  ],
  "metadata": {
    "kernelspec": {
      "display_name": "Python 3 (ipykernel)",
      "language": "python",
      "name": "python3"
    },
    "language_info": {
      "codemirror_mode": {
        "name": "ipython",
        "version": 3
      },
      "file_extension": ".py",
      "mimetype": "text/x-python",
      "name": "python",
      "nbconvert_exporter": "python",
      "pygments_lexer": "ipython3",
      "version": "3.10.8"
    },
    "vscode": {
      "interpreter": {
        "hash": "ec757111aa82fc412dab5a41ba1a33fdb6db5c8112df3ff06fec0dbff050b412"
      }
    },
    "colab": {
      "provenance": []
    },
    "widgets": {
      "application/vnd.jupyter.widget-state+json": {
        "d0e3261e117645b394d5037f09e3701d": {
          "model_module": "@jupyter-widgets/controls",
          "model_name": "VBoxModel",
          "model_module_version": "1.5.0",
          "state": {
            "_dom_classes": [
              "widget-interact"
            ],
            "_model_module": "@jupyter-widgets/controls",
            "_model_module_version": "1.5.0",
            "_model_name": "VBoxModel",
            "_view_count": null,
            "_view_module": "@jupyter-widgets/controls",
            "_view_module_version": "1.5.0",
            "_view_name": "VBoxView",
            "box_style": "",
            "children": [
              "IPY_MODEL_bc07420daa554a8b94dc3c94d0ad87f0",
              "IPY_MODEL_7e09ce511a6b4d3b9408eaad6311feb0"
            ],
            "layout": "IPY_MODEL_b6cbfe5802fb4dd084d74e399f47f77f"
          }
        },
        "bc07420daa554a8b94dc3c94d0ad87f0": {
          "model_module": "@jupyter-widgets/controls",
          "model_name": "IntSliderModel",
          "model_module_version": "1.5.0",
          "state": {
            "_dom_classes": [],
            "_model_module": "@jupyter-widgets/controls",
            "_model_module_version": "1.5.0",
            "_model_name": "IntSliderModel",
            "_view_count": null,
            "_view_module": "@jupyter-widgets/controls",
            "_view_module_version": "1.5.0",
            "_view_name": "IntSliderView",
            "continuous_update": true,
            "description": "i",
            "description_tooltip": null,
            "disabled": false,
            "layout": "IPY_MODEL_c1b9f7290ef94740bc4451d2b04eb1b0",
            "max": 99,
            "min": 0,
            "orientation": "horizontal",
            "readout": true,
            "readout_format": "d",
            "step": 1,
            "style": "IPY_MODEL_f56f23122e884d11ac76a9d345bbdc36",
            "value": 53
          }
        },
        "7e09ce511a6b4d3b9408eaad6311feb0": {
          "model_module": "@jupyter-widgets/output",
          "model_name": "OutputModel",
          "model_module_version": "1.0.0",
          "state": {
            "_dom_classes": [],
            "_model_module": "@jupyter-widgets/output",
            "_model_module_version": "1.0.0",
            "_model_name": "OutputModel",
            "_view_count": null,
            "_view_module": "@jupyter-widgets/output",
            "_view_module_version": "1.0.0",
            "_view_name": "OutputView",
            "layout": "IPY_MODEL_39239a2a21cb4e94a0e483cbc9bc4ec5",
            "msg_id": "",
            "outputs": [
              {
                "output_type": "display_data",
                "data": {
                  "text/plain": "<Figure size 1000x500 with 1 Axes>",
                  "image/png": "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\n"
                },
                "metadata": {}
              }
            ]
          }
        },
        "b6cbfe5802fb4dd084d74e399f47f77f": {
          "model_module": "@jupyter-widgets/base",
          "model_name": "LayoutModel",
          "model_module_version": "1.2.0",
          "state": {
            "_model_module": "@jupyter-widgets/base",
            "_model_module_version": "1.2.0",
            "_model_name": "LayoutModel",
            "_view_count": null,
            "_view_module": "@jupyter-widgets/base",
            "_view_module_version": "1.2.0",
            "_view_name": "LayoutView",
            "align_content": null,
            "align_items": null,
            "align_self": null,
            "border": null,
            "bottom": null,
            "display": null,
            "flex": null,
            "flex_flow": null,
            "grid_area": null,
            "grid_auto_columns": null,
            "grid_auto_flow": null,
            "grid_auto_rows": null,
            "grid_column": null,
            "grid_gap": null,
            "grid_row": null,
            "grid_template_areas": null,
            "grid_template_columns": null,
            "grid_template_rows": null,
            "height": null,
            "justify_content": null,
            "justify_items": null,
            "left": null,
            "margin": null,
            "max_height": null,
            "max_width": null,
            "min_height": null,
            "min_width": null,
            "object_fit": null,
            "object_position": null,
            "order": null,
            "overflow": null,
            "overflow_x": null,
            "overflow_y": null,
            "padding": null,
            "right": null,
            "top": null,
            "visibility": null,
            "width": null
          }
        },
        "c1b9f7290ef94740bc4451d2b04eb1b0": {
          "model_module": "@jupyter-widgets/base",
          "model_name": "LayoutModel",
          "model_module_version": "1.2.0",
          "state": {
            "_model_module": "@jupyter-widgets/base",
            "_model_module_version": "1.2.0",
            "_model_name": "LayoutModel",
            "_view_count": null,
            "_view_module": "@jupyter-widgets/base",
            "_view_module_version": "1.2.0",
            "_view_name": "LayoutView",
            "align_content": null,
            "align_items": null,
            "align_self": null,
            "border": null,
            "bottom": null,
            "display": null,
            "flex": null,
            "flex_flow": null,
            "grid_area": null,
            "grid_auto_columns": null,
            "grid_auto_flow": null,
            "grid_auto_rows": null,
            "grid_column": null,
            "grid_gap": null,
            "grid_row": null,
            "grid_template_areas": null,
            "grid_template_columns": null,
            "grid_template_rows": null,
            "height": null,
            "justify_content": null,
            "justify_items": null,
            "left": null,
            "margin": null,
            "max_height": null,
            "max_width": null,
            "min_height": null,
            "min_width": null,
            "object_fit": null,
            "object_position": null,
            "order": null,
            "overflow": null,
            "overflow_x": null,
            "overflow_y": null,
            "padding": null,
            "right": null,
            "top": null,
            "visibility": null,
            "width": null
          }
        },
        "f56f23122e884d11ac76a9d345bbdc36": {
          "model_module": "@jupyter-widgets/controls",
          "model_name": "SliderStyleModel",
          "model_module_version": "1.5.0",
          "state": {
            "_model_module": "@jupyter-widgets/controls",
            "_model_module_version": "1.5.0",
            "_model_name": "SliderStyleModel",
            "_view_count": null,
            "_view_module": "@jupyter-widgets/base",
            "_view_module_version": "1.2.0",
            "_view_name": "StyleView",
            "description_width": "",
            "handle_color": null
          }
        },
        "39239a2a21cb4e94a0e483cbc9bc4ec5": {
          "model_module": "@jupyter-widgets/base",
          "model_name": "LayoutModel",
          "model_module_version": "1.2.0",
          "state": {
            "_model_module": "@jupyter-widgets/base",
            "_model_module_version": "1.2.0",
            "_model_name": "LayoutModel",
            "_view_count": null,
            "_view_module": "@jupyter-widgets/base",
            "_view_module_version": "1.2.0",
            "_view_name": "LayoutView",
            "align_content": null,
            "align_items": null,
            "align_self": null,
            "border": null,
            "bottom": null,
            "display": null,
            "flex": null,
            "flex_flow": null,
            "grid_area": null,
            "grid_auto_columns": null,
            "grid_auto_flow": null,
            "grid_auto_rows": null,
            "grid_column": null,
            "grid_gap": null,
            "grid_row": null,
            "grid_template_areas": null,
            "grid_template_columns": null,
            "grid_template_rows": null,
            "height": null,
            "justify_content": null,
            "justify_items": null,
            "left": null,
            "margin": null,
            "max_height": null,
            "max_width": null,
            "min_height": null,
            "min_width": null,
            "object_fit": null,
            "object_position": null,
            "order": null,
            "overflow": null,
            "overflow_x": null,
            "overflow_y": null,
            "padding": null,
            "right": null,
            "top": null,
            "visibility": null,
            "width": null
          }
        }
      }
    }
  },
  "nbformat": 4,
  "nbformat_minor": 0
}