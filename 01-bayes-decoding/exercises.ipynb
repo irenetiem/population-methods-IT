{
  "cells": [
    {
      "cell_type": "markdown",
      "metadata": {
        "id": "nxlXUtJEg1xI"
      },
      "source": [
        "# Exercises"
      ]
    },
    {
      "cell_type": "code",
      "source": [
        "# get all files from the notebook here\n",
        "!git clone https://github.com/irenetiem/population-methods-IT\n",
        "\n",
        "import pickle\n",
        "import numpy as np\n",
        "import ipywidgets as widgets\n",
        "from ipywidgets import interact\n",
        "import matplotlib.pyplot as plt\n",
        "from tqdm import tqdm\n",
        "import seaborn as sns\n",
        "from scipy.stats import pearsonr\n",
        "import sys\n",
        "import os\n",
        "sys.path.append(os.path.abspath(\"/population-methods-IT/blob/main/01-bayes-decoding/bayes-decoding.ipynb\"))\n",
        "# from utils import download_data\n",
        "\n",
        "import urllib.request\n",
        "from os import remove\n",
        "import zipfile\n",
        "from pathlib import Path\n",
        "\n",
        "\n",
        "def download_data(url):\n",
        "\n",
        "    if url.endswith('download'):\n",
        "        URL = url\n",
        "    else:\n",
        "        URL = '/'.join((url, 'download'))\n",
        "\n",
        "    if URL:\n",
        "        response = urllib.request.urlopen(URL)\n",
        "        data = response.read()\n",
        "        response.close()\n",
        "\n",
        "        with open('data.zip', 'wb') as f:\n",
        "            f.write(data)\n",
        "\n",
        "    with zipfile.ZipFile('data.zip', 'r') as zip_ref:\n",
        "        zip_ref.extractall()\n",
        "\n",
        "    remove('data.zip')\n",
        "\n",
        "sns.set_theme(context='notebook',style='white',font_scale=1,\n",
        "              rc = {'axes.spines.top':False,'axes.spines.right':False})"
      ],
      "metadata": {
        "id": "hc-fnVYejhYD",
        "outputId": "118fb92a-4c5f-492b-98c6-b13f57bfe0fc",
        "colab": {
          "base_uri": "https://localhost:8080/"
        }
      },
      "execution_count": 1,
      "outputs": [
        {
          "output_type": "stream",
          "name": "stdout",
          "text": [
            "fatal: destination path 'population-methods-IT' already exists and is not an empty directory.\n"
          ]
        }
      ]
    },
    {
      "cell_type": "code",
      "source": [
        "download_data('https://surfdrive.surf.nl/files/index.php/s/TliAW2xObyy0keu')"
      ],
      "metadata": {
        "id": "Af3DzGicqH7q"
      },
      "execution_count": 2,
      "outputs": []
    },
    {
      "cell_type": "code",
      "source": [
        "#code: data import\n",
        "data_file = 'data/linear_track_data.pickle'\n",
        "with open(data_file, 'rb') as handle:\n",
        "    data = pickle.load(handle)\n",
        "\n",
        "x,t,spikes = data['x'],data['t'],data['spikes']\n",
        "track_length = data['track_length']\n",
        "fps = data['fps']\n",
        "n_cells = len(spikes)\n",
        "\n",
        "def plot_unit(i):\n",
        "    plt.plot(t, x)\n",
        "    plt.plot(spikes[i], np.interp(spikes[i], t, x), 'r.')\n",
        "\n",
        "interact(plot_unit, i = widgets.IntSlider(min=0, max=(n_cells-1), value=0))"
      ],
      "metadata": {
        "id": "7cdk94JQqI7N",
        "outputId": "d54a7446-d505-4338-eada-d73854f0fcaa",
        "colab": {
          "base_uri": "https://localhost:8080/",
          "height": 552,
          "referenced_widgets": [
            "f543df3cf3ac4136a0cd21de09e1b3a0",
            "ff9e9d257dc74209acc4fbc56396918b",
            "a7c94ef2190045b192251fcc68a32b86",
            "7b108306c2094332906f8c5acd00c017",
            "97002718b82f464aa3f974a9374155c5",
            "944cad87af8b4f41933af044f7d2b98a",
            "dc067b43dcb64810a7a4d116d2ff9ce2"
          ]
        }
      },
      "execution_count": 3,
      "outputs": [
        {
          "output_type": "display_data",
          "data": {
            "text/plain": [
              "interactive(children=(IntSlider(value=0, description='i', max=99), Output()), _dom_classes=('widget-interact',…"
            ],
            "application/vnd.jupyter.widget-view+json": {
              "version_major": 2,
              "version_minor": 0,
              "model_id": "f543df3cf3ac4136a0cd21de09e1b3a0"
            }
          },
          "metadata": {}
        },
        {
          "output_type": "execute_result",
          "data": {
            "text/plain": [
              "<function __main__.plot_unit(i)>"
            ],
            "text/html": [
              "<div style=\"max-width:800px; border: 1px solid var(--colab-border-color);\"><style>\n",
              "      pre.function-repr-contents {\n",
              "        overflow-x: auto;\n",
              "        padding: 8px 12px;\n",
              "        max-height: 500px;\n",
              "      }\n",
              "\n",
              "      pre.function-repr-contents.function-repr-contents-collapsed {\n",
              "        cursor: pointer;\n",
              "        max-height: 100px;\n",
              "      }\n",
              "    </style>\n",
              "    <pre style=\"white-space: initial; background:\n",
              "         var(--colab-secondary-surface-color); padding: 8px 12px;\n",
              "         border-bottom: 1px solid var(--colab-border-color);\"><b>plot_unit</b><br/>def plot_unit(i)</pre><pre class=\"function-repr-contents function-repr-contents-collapsed\" style=\"\"><a class=\"filepath\" style=\"display:none\" href=\"#\">/content/&lt;ipython-input-3-4186710557&gt;</a>&lt;no docstring&gt;</pre></div>"
            ]
          },
          "metadata": {},
          "execution_count": 3
        }
      ]
    },
    {
      "cell_type": "markdown",
      "metadata": {
        "id": "afVd_GMYg1xP"
      },
      "source": [
        "## Exercise 1\n",
        "---\n",
        "\n",
        "You can find below the code that was used to generate the activity of place cells on a linear track.\n",
        "Use the code and the decoding procedure you lerned about in the lesson to explore how different features of the data impact our ability to decode position.\n",
        "In particular:\n",
        "\n",
        "A - Try to use different fractions of our data samples. How does the median error change when the the number of available sample gets larger? You do not need to re-generate any data, just randomly sub-sample the data to different fractions.\n",
        "\n",
        "B - How many place cells do we need to reliably decode position? Try to re-do the decoding using only 10 cell, then 20, and so on. How does the median error change? Does it reach an asymptote? (Also in this case, you do not need to re-generate the data, you can just select a random subset of cells each time)\n",
        "\n",
        "C - Generate new data using the code below, changing the firing rate noise (changing the value of the variable `noise firing_rate`). How does this noise impact the decoding?"
      ]
    },
    {
      "cell_type": "code",
      "source": [],
      "metadata": {
        "id": "Fd46ttb90200"
      },
      "execution_count": 3,
      "outputs": []
    },
    {
      "cell_type": "markdown",
      "metadata": {
        "id": "TbXzMhuFg1xY"
      },
      "source": [
        "### Code for data generation"
      ]
    },
    {
      "cell_type": "code",
      "source": [
        "import numpy as np\n",
        "import scipy\n",
        "import scipy.stats\n",
        "import scipy.io\n",
        "import matplotlib\n",
        "import matplotlib.pyplot as plt\n",
        "\n",
        "%matplotlib inline\n",
        "plt.rcParams['figure.figsize'] = [10, 5]\n",
        "from ipywidgets import interact\n",
        "import ipywidgets as widgets"
      ],
      "metadata": {
        "id": "Pwd-jXCk1TEI"
      },
      "execution_count": 4,
      "outputs": []
    },
    {
      "cell_type": "code",
      "execution_count": 5,
      "metadata": {
        "id": "4dzzon9hg1xa"
      },
      "outputs": [],
      "source": [
        "track_length = 200. # the length of our linear track (eg in centimeter)\n",
        "average_firing_rate = 5 # the peak firing rate, averaged across the population\n",
        "n_cells = 100 # how many cells we are recording\n",
        "pf_centers = np.random.rand(n_cells) * track_length # the centers of the place fields for all cells drawn randomly with a uniform distribution on the track\n",
        "pf_size = np.random.gamma(10, size=n_cells) # the size (width) of the place fields, drawn randomly from a gamma distribution\n",
        "pf_rate = np.random.exponential(scale=average_firing_rate, size=n_cells) # the peak firing rate for each cell, drawn from an exponential distribution"
      ]
    },
    {
      "cell_type": "code",
      "execution_count": 6,
      "metadata": {
        "id": "U_ULy5wTg1xc"
      },
      "outputs": [],
      "source": [
        "bins = np.arange(0., 200.)\n",
        "true_firing_rate_maps = np.zeros((n_cells, len(bins)))\n",
        "for i in range(n_cells):\n",
        "    true_firing_rate_maps[i,:] = pf_rate[i] * np.exp(-((bins-pf_centers[i])**2)/(2*pf_size[i]**2))"
      ]
    },
    {
      "cell_type": "code",
      "execution_count": 7,
      "metadata": {
        "id": "sXnESqVqg1xd"
      },
      "outputs": [],
      "source": [
        "# GENERATE TRAJECTORY\n",
        "\n",
        "n_runs = 10\n",
        "use_stops = False\n",
        "av_running_speed = 10 # the average running speed (in cm/s)\n",
        "fps = 10 # the number of \"video frames\" per second\n",
        "running_speed_a = np.random.chisquare(10, size=n_runs) # running speed in the two directions\n",
        "running_speed_b = np.random.chisquare(10, size=n_runs)\n",
        "\n",
        "stopping_time_a = np.random.chisquare(15, size=n_runs) # the time the mouse will spend at the two ends of the track\n",
        "stopping_time_b = np.random.chisquare(15, size=n_runs)\n",
        "\n",
        "x = np.array([])\n",
        "\n",
        "\n",
        "for i in range(n_runs):\n",
        "    stop1 = np.ones((int(stopping_time_a[i]*fps),)) * 0.\n",
        "    run_length = len(bins) * fps / running_speed_a[i]\n",
        "    run1 = np.linspace(0., float(len(bins)-1), int(run_length))\n",
        "    stop2 = np.ones((int(stopping_time_b[i]*fps),)) * (len(bins)-1.)\n",
        "    run_length = len(bins) * fps / running_speed_b[i]\n",
        "    run2 = np.linspace(len(bins)-1., 0., int(run_length))\n",
        "    if use_stops:\n",
        "        x = np.concatenate((x, stop1, run1, stop2, run2))\n",
        "    else:\n",
        "         x = np.concatenate((x, run1, run2))\n",
        "t = np.arange(len(x))/fps"
      ]
    },
    {
      "cell_type": "code",
      "execution_count": 18,
      "metadata": {
        "id": "GzzqsPXXg1xe"
      },
      "outputs": [],
      "source": [
        "# sampling here\n",
        "\n",
        "sampling_rate = 10000.\n",
        "t_sampling = np.arange(0, t[-1], 1. / sampling_rate)\n",
        "x_sampling = np.floor(np.interp(t_sampling, t, x))\n",
        "noise_firing_rate = 0.1 # the baseline noise firing rate\n",
        "spikes = []#np.zeros(n_cells)\n",
        "\n",
        "for i in range(n_cells):\n",
        "    inst_rate = true_firing_rate_maps[i,x_sampling.astype(np.int32)] + noise_firing_rate\n",
        "    spikes_loc = np.random.poisson(inst_rate/sampling_rate)\n",
        "    sp = np.argwhere(spikes_loc)\n",
        "    t_sp = t_sampling[sp]\n",
        "    # for j in range(len(t_sp)):\n",
        "    #     spikes.append(t_sp[j]) # change shape of spikes\n",
        "    spikes.append(t_sp)"
      ]
    },
    {
      "cell_type": "code",
      "source": [
        "spikes = np.array(spikes)"
      ],
      "metadata": {
        "id": "zh-psZ5zMNal"
      },
      "execution_count": 21,
      "outputs": []
    },
    {
      "cell_type": "code",
      "source": [
        "spikes.shape"
      ],
      "metadata": {
        "id": "47nNAZwDMajA",
        "outputId": "afa288c2-b50f-4bb8-9cd2-27af4344b649",
        "colab": {
          "base_uri": "https://localhost:8080/"
        }
      },
      "execution_count": 22,
      "outputs": [
        {
          "output_type": "execute_result",
          "data": {
            "text/plain": [
              "(39414, 1)"
            ]
          },
          "metadata": {},
          "execution_count": 22
        }
      ]
    },
    {
      "cell_type": "code",
      "execution_count": 23,
      "metadata": {
        "id": "hIjJStO5g1xf"
      },
      "outputs": [],
      "source": [
        "import pickle\n",
        "\n",
        "file_name = 'linear_track_data.pickle' # change this name when you save new data\n",
        "\n",
        "out_data = {}\n",
        "out_data['x'] = x\n",
        "out_data['t'] = t\n",
        "out_data['spikes'] = spikes\n",
        "out_data['track_length'] = track_length\n",
        "out_data['fps'] = fps\n",
        "\n",
        "with open('/content/'+file_name,'wb') as f:\n",
        "    pickle.dump(out_data,f)"
      ]
    },
    {
      "cell_type": "code",
      "source": [
        "spike_positions = [np.interp(s, t, x) for s in spikes]\n",
        "space_bins = np.arange(0., track_length, 5.) # binning in bins of 5 cms\n",
        "\n",
        "# we compute histograms for each cell\n",
        "spikes_hist= [np.histogram(s, space_bins)[0] for s in spike_positions]\n",
        "spikes_hist = np.asarray(spikes_hist)\n",
        "\n",
        "# we also need an \"occupancy histogram\" in order to normalize the firing rates maps\n",
        "occupancy = np.histogram(x, space_bins)[0] /  fps\n",
        "\n",
        "firing_rate_maps = spikes_hist / occupancy\n",
        "spikes_count= [np.histogram(s,t)[0] for s in spikes]\n",
        "spikes_count = np.asarray(spikes_count).T #\n",
        "\n",
        "# code decoding\n",
        "from scipy.stats import poisson\n",
        "\n",
        "true_x = x[:-1] # get rid of last timepoint to have same length as binned spikes\n",
        "decoding_times = t[:-1]\n",
        "\n",
        "x_decoded = np.zeros_like(true_x)\n",
        "\n",
        "for t_bin in tqdm(range(len(decoding_times))):\n",
        "    if sum(spikes_count[t_bin,:])>0: # Check if the time window contains spikes\n",
        "        posterior = np.empty(firing_rate_maps.shape[-1])\n",
        "\n",
        "        for i in range(len(posterior)):\n",
        "            # Note that we work with log so that we can sum probabilities\n",
        "            # instead of multiplying them\n",
        "            #posterior[i] = sum(np.log(poisson.pmf(spikes_count[t_bin,:],firing_rate_maps[:,i]/fps)+pow(1,-15)))\n",
        "            posterior[i] = sum(poisson.logpmf(spikes_count[t_bin,:],firing_rate_maps[:,i]/fps)+pow(10,-15))\n",
        "\n",
        "\n",
        "        x_decoded[t_bin] = space_bins[np.argmax(posterior)]\n",
        "    else:\n",
        "        x_decoded[t_bin] = np.nan"
      ],
      "metadata": {
        "colab": {
          "base_uri": "https://localhost:8080/"
        },
        "id": "3bIysTXG-jPV",
        "outputId": "ddfe5d5f-abc8-4035-b41a-d4e927ba5981"
      },
      "execution_count": null,
      "outputs": [
        {
          "output_type": "stream",
          "name": "stderr",
          "text": [
            " 18%|█▊        | 953/5437 [05:04<25:00,  2.99it/s]"
          ]
        }
      ]
    },
    {
      "cell_type": "code",
      "execution_count": 11,
      "metadata": {
        "id": "ZGOqqLLUg1xf"
      },
      "outputs": [],
      "source": [
        "# calculate MSE"
      ]
    },
    {
      "cell_type": "code",
      "source": [
        "\n",
        "# # error distribution\n",
        "# mse = np.sqrt((true_x-x_decoded)**2)"
      ],
      "metadata": {
        "collapsed": true,
        "id": "PqrV6ngc-gIe"
      },
      "execution_count": 12,
      "outputs": []
    },
    {
      "cell_type": "code",
      "source": [
        "# A\n",
        "\n",
        "# define func to decode and get MSE with sample of specific percentgae\n",
        "def decode_and_MSE(data, percentage, x, t, spikes, track_length, fps):\n",
        "\n",
        "  # get percentage of data sampled randomly\n",
        "  subset = np.random.choice(np.array(data), int(len(data)*percentage), replace=False)\n",
        "  # subset = np.array([spikes[i] for i in indices])\n",
        "\n",
        "\n",
        "  # decode\n",
        "  spike_positions = [np.interp(s, t, x) for s in subset]\n",
        "  space_bins = np.arange(0., track_length, 5.) # binning in bins of 5 cms\n",
        "\n",
        "  # we compute histograms for each cell\n",
        "  spikes_hist= [np.histogram(s, space_bins)[0] for s in spike_positions]\n",
        "  spikes_hist = np.asarray(spikes_hist)\n",
        "\n",
        "  # we also need an \"occupancy histogram\" in order to normalize the firing rates maps\n",
        "  occupancy = np.histogram(x, space_bins)[0] /  fps\n",
        "\n",
        "  firing_rate_maps = spikes_hist / occupancy\n",
        "  spikes_count= [np.histogram(s,t)[0] for s in subset]\n",
        "  spikes_count = np.asarray(spikes_count).T #\n",
        "\n",
        "\n",
        "  # true_x = x[:-1] # get rid of last timepoint to have same length as binned spikes\n",
        "  decoding_times = t[:-1]\n",
        "\n",
        "  x_decoded = np.zeros_like(true_x)\n",
        "\n",
        "  for t_bin in tqdm(range(len(decoding_times))):\n",
        "      if sum(spikes_count[t_bin,:])>0: # Check if the time window contains spikes\n",
        "          posterior = np.empty(firing_rate_maps.shape[-1])\n",
        "\n",
        "          for i in range(len(posterior)):\n",
        "              # Note that we work with log so that we can sum probabilities\n",
        "              # instead of multiplying them\n",
        "              #posterior[i] = sum(np.log(poisson.pmf(spikes_count[t_bin,:],firing_rate_maps[:,i]/fps)+pow(1,-15)))\n",
        "              posterior[i] = sum(poisson.logpmf(spikes_count[t_bin,:],firing_rate_maps[:,i]/fps)+pow(10,-15))\n",
        "\n",
        "\n",
        "          x_decoded[t_bin] = space_bins[np.argmax(posterior)]\n",
        "      else:\n",
        "          x_decoded[t_bin] = np.nan\n",
        "\n",
        "  # error distribution\n",
        "  mse = np.sqrt((true_x-x_decoded)**2)\n",
        "\n",
        "  return mse"
      ],
      "metadata": {
        "id": "XiS_5BnWHQIJ"
      },
      "execution_count": 17,
      "outputs": []
    },
    {
      "cell_type": "code",
      "source": [
        "spikes = np.array(spikes)"
      ],
      "metadata": {
        "colab": {
          "base_uri": "https://localhost:8080/",
          "height": 141
        },
        "id": "bEI-OAgCKbQo",
        "outputId": "5c424478-9486-48f7-94fd-2ed8c28a594f"
      },
      "execution_count": 16,
      "outputs": [
        {
          "output_type": "error",
          "ename": "ValueError",
          "evalue": "setting an array element with a sequence. The requested array has an inhomogeneous shape after 1 dimensions. The detected shape was (100,) + inhomogeneous part.",
          "traceback": [
            "\u001b[0;31m---------------------------------------------------------------------------\u001b[0m",
            "\u001b[0;31mValueError\u001b[0m                                Traceback (most recent call last)",
            "\u001b[0;32m<ipython-input-16-4136491335>\u001b[0m in \u001b[0;36m<cell line: 0>\u001b[0;34m()\u001b[0m\n\u001b[0;32m----> 1\u001b[0;31m \u001b[0mspikes\u001b[0m \u001b[0;34m=\u001b[0m \u001b[0mnp\u001b[0m\u001b[0;34m.\u001b[0m\u001b[0marray\u001b[0m\u001b[0;34m(\u001b[0m\u001b[0mspikes\u001b[0m\u001b[0;34m)\u001b[0m\u001b[0;34m\u001b[0m\u001b[0;34m\u001b[0m\u001b[0m\n\u001b[0m",
            "\u001b[0;31mValueError\u001b[0m: setting an array element with a sequence. The requested array has an inhomogeneous shape after 1 dimensions. The detected shape was (100,) + inhomogeneous part."
          ]
        }
      ]
    },
    {
      "cell_type": "code",
      "source": [
        "X = decode_and_MSE(data=spikes, percentage=1, x=x, t=t, spikes=spikes, track_length=track_length, fps=fps)"
      ],
      "metadata": {
        "colab": {
          "base_uri": "https://localhost:8080/",
          "height": 263
        },
        "id": "X7WOc4R3Jdgw",
        "outputId": "c0360e2d-e33a-4ebd-94ae-1671203f86c9"
      },
      "execution_count": 15,
      "outputs": [
        {
          "output_type": "error",
          "ename": "ValueError",
          "evalue": "setting an array element with a sequence. The requested array has an inhomogeneous shape after 1 dimensions. The detected shape was (100,) + inhomogeneous part.",
          "traceback": [
            "\u001b[0;31m---------------------------------------------------------------------------\u001b[0m",
            "\u001b[0;31mValueError\u001b[0m                                Traceback (most recent call last)",
            "\u001b[0;32m<ipython-input-15-782762054>\u001b[0m in \u001b[0;36m<cell line: 0>\u001b[0;34m()\u001b[0m\n\u001b[0;32m----> 1\u001b[0;31m \u001b[0mX\u001b[0m \u001b[0;34m=\u001b[0m \u001b[0mdecode_and_MSE\u001b[0m\u001b[0;34m(\u001b[0m\u001b[0mdata\u001b[0m\u001b[0;34m=\u001b[0m\u001b[0mspikes\u001b[0m\u001b[0;34m,\u001b[0m \u001b[0mpercentage\u001b[0m\u001b[0;34m=\u001b[0m\u001b[0;36m1\u001b[0m\u001b[0;34m,\u001b[0m \u001b[0mx\u001b[0m\u001b[0;34m=\u001b[0m\u001b[0mx\u001b[0m\u001b[0;34m,\u001b[0m \u001b[0mt\u001b[0m\u001b[0;34m=\u001b[0m\u001b[0mt\u001b[0m\u001b[0;34m,\u001b[0m \u001b[0mspikes\u001b[0m\u001b[0;34m=\u001b[0m\u001b[0mspikes\u001b[0m\u001b[0;34m,\u001b[0m \u001b[0mtrack_length\u001b[0m\u001b[0;34m=\u001b[0m\u001b[0mtrack_length\u001b[0m\u001b[0;34m,\u001b[0m \u001b[0mfps\u001b[0m\u001b[0;34m=\u001b[0m\u001b[0mfps\u001b[0m\u001b[0;34m)\u001b[0m\u001b[0;34m\u001b[0m\u001b[0;34m\u001b[0m\u001b[0m\n\u001b[0m",
            "\u001b[0;32m<ipython-input-13-3164976593>\u001b[0m in \u001b[0;36mdecode_and_MSE\u001b[0;34m(data, percentage, x, t, spikes, track_length, fps)\u001b[0m\n\u001b[1;32m     11\u001b[0m \u001b[0;34m\u001b[0m\u001b[0m\n\u001b[1;32m     12\u001b[0m   \u001b[0;31m# get percentage of data sampled randomly\u001b[0m\u001b[0;34m\u001b[0m\u001b[0;34m\u001b[0m\u001b[0m\n\u001b[0;32m---> 13\u001b[0;31m   \u001b[0mindices\u001b[0m \u001b[0;34m=\u001b[0m \u001b[0mnp\u001b[0m\u001b[0;34m.\u001b[0m\u001b[0mrandom\u001b[0m\u001b[0;34m.\u001b[0m\u001b[0mchoice\u001b[0m\u001b[0;34m(\u001b[0m\u001b[0mnp\u001b[0m\u001b[0;34m.\u001b[0m\u001b[0marray\u001b[0m\u001b[0;34m(\u001b[0m\u001b[0mdata\u001b[0m\u001b[0;34m)\u001b[0m\u001b[0;34m,\u001b[0m \u001b[0mint\u001b[0m\u001b[0;34m(\u001b[0m\u001b[0mlen\u001b[0m\u001b[0;34m(\u001b[0m\u001b[0mdata\u001b[0m\u001b[0;34m)\u001b[0m\u001b[0;34m*\u001b[0m\u001b[0mpercentage\u001b[0m\u001b[0;34m)\u001b[0m\u001b[0;34m,\u001b[0m \u001b[0mreplace\u001b[0m\u001b[0;34m=\u001b[0m\u001b[0;32mFalse\u001b[0m\u001b[0;34m)\u001b[0m\u001b[0;34m\u001b[0m\u001b[0;34m\u001b[0m\u001b[0m\n\u001b[0m\u001b[1;32m     14\u001b[0m   \u001b[0msubset\u001b[0m \u001b[0;34m=\u001b[0m \u001b[0mnp\u001b[0m\u001b[0;34m.\u001b[0m\u001b[0marray\u001b[0m\u001b[0;34m(\u001b[0m\u001b[0;34m[\u001b[0m\u001b[0mspikes\u001b[0m\u001b[0;34m[\u001b[0m\u001b[0mi\u001b[0m\u001b[0;34m]\u001b[0m \u001b[0;32mfor\u001b[0m \u001b[0mi\u001b[0m \u001b[0;32min\u001b[0m \u001b[0mindices\u001b[0m\u001b[0;34m]\u001b[0m\u001b[0;34m)\u001b[0m\u001b[0;34m\u001b[0m\u001b[0;34m\u001b[0m\u001b[0m\n\u001b[1;32m     15\u001b[0m \u001b[0;34m\u001b[0m\u001b[0m\n",
            "\u001b[0;31mValueError\u001b[0m: setting an array element with a sequence. The requested array has an inhomogeneous shape after 1 dimensions. The detected shape was (100,) + inhomogeneous part."
          ]
        }
      ]
    },
    {
      "cell_type": "markdown",
      "source": [],
      "metadata": {
        "id": "WIXa2sYq-eBg"
      }
    },
    {
      "cell_type": "markdown",
      "metadata": {
        "id": "cTMMEG3ig1xV"
      },
      "source": [
        "## Exercise 2\n",
        "---\n",
        "In the loop implementation of the decoder, we used `poisson.logpmf(k,mu)` to calculate the log probability of observing $k$ spikes given an average firing rate of $\\mu$.\n",
        "This is mathematically equivalent to `np.log(poisson.pmf(k,mu))`, in which we calculate the probability, and then take the log.\n",
        "\n",
        "\n",
        "Re-run the decoding substituting this expression:\n",
        "\n",
        "```\n",
        "posterior[i] = sum(np.log(poisson.pmf(spikes_count[t_bin,:],firing_rate_maps[:,i]/fps)+pow(1,-15)))\n",
        "```\n",
        "\n",
        "To the line we are using to calculate the posterior.\n",
        "Do you see any difference in the results? What do you think this is due to?\n",
        "\n",
        "\n"
      ]
    },
    {
      "cell_type": "markdown",
      "metadata": {
        "id": "f83tl_5rg1xX"
      },
      "source": [
        "## Exercise 3\n",
        "---\n",
        "A - Estimate the quality of the sequence detection methods we saw in the lesson. How many false poistive does it find? How many false negatives?\n",
        "\n",
        "B - Investigate the effect of `noise_x_react` and `noise_t_react` on the false positive rate and the false negative rate of our detection procedure.\n",
        "\n",
        "C - What kind of sequence can our methods detect? What kind of activity, despide being sequential, could escape our detection method? Would you have an idea for a different method for sequence detection?\n"
      ]
    }
  ],
  "metadata": {
    "kernelspec": {
      "display_name": "Python 3 (ipykernel)",
      "language": "python",
      "name": "python3"
    },
    "language_info": {
      "codemirror_mode": {
        "name": "ipython",
        "version": 3
      },
      "file_extension": ".py",
      "mimetype": "text/x-python",
      "name": "python",
      "nbconvert_exporter": "python",
      "pygments_lexer": "ipython3",
      "version": "3.10.8"
    },
    "vscode": {
      "interpreter": {
        "hash": "ec757111aa82fc412dab5a41ba1a33fdb6db5c8112df3ff06fec0dbff050b412"
      }
    },
    "colab": {
      "provenance": []
    },
    "widgets": {
      "application/vnd.jupyter.widget-state+json": {
        "f543df3cf3ac4136a0cd21de09e1b3a0": {
          "model_module": "@jupyter-widgets/controls",
          "model_name": "VBoxModel",
          "model_module_version": "1.5.0",
          "state": {
            "_dom_classes": [
              "widget-interact"
            ],
            "_model_module": "@jupyter-widgets/controls",
            "_model_module_version": "1.5.0",
            "_model_name": "VBoxModel",
            "_view_count": null,
            "_view_module": "@jupyter-widgets/controls",
            "_view_module_version": "1.5.0",
            "_view_name": "VBoxView",
            "box_style": "",
            "children": [
              "IPY_MODEL_ff9e9d257dc74209acc4fbc56396918b",
              "IPY_MODEL_a7c94ef2190045b192251fcc68a32b86"
            ],
            "layout": "IPY_MODEL_7b108306c2094332906f8c5acd00c017"
          }
        },
        "ff9e9d257dc74209acc4fbc56396918b": {
          "model_module": "@jupyter-widgets/controls",
          "model_name": "IntSliderModel",
          "model_module_version": "1.5.0",
          "state": {
            "_dom_classes": [],
            "_model_module": "@jupyter-widgets/controls",
            "_model_module_version": "1.5.0",
            "_model_name": "IntSliderModel",
            "_view_count": null,
            "_view_module": "@jupyter-widgets/controls",
            "_view_module_version": "1.5.0",
            "_view_name": "IntSliderView",
            "continuous_update": true,
            "description": "i",
            "description_tooltip": null,
            "disabled": false,
            "layout": "IPY_MODEL_97002718b82f464aa3f974a9374155c5",
            "max": 99,
            "min": 0,
            "orientation": "horizontal",
            "readout": true,
            "readout_format": "d",
            "step": 1,
            "style": "IPY_MODEL_944cad87af8b4f41933af044f7d2b98a",
            "value": 0
          }
        },
        "a7c94ef2190045b192251fcc68a32b86": {
          "model_module": "@jupyter-widgets/output",
          "model_name": "OutputModel",
          "model_module_version": "1.0.0",
          "state": {
            "_dom_classes": [],
            "_model_module": "@jupyter-widgets/output",
            "_model_module_version": "1.0.0",
            "_model_name": "OutputModel",
            "_view_count": null,
            "_view_module": "@jupyter-widgets/output",
            "_view_module_version": "1.0.0",
            "_view_name": "OutputView",
            "layout": "IPY_MODEL_dc067b43dcb64810a7a4d116d2ff9ce2",
            "msg_id": "",
            "outputs": [
              {
                "output_type": "display_data",
                "data": {
                  "text/plain": "<Figure size 640x480 with 1 Axes>",
                  "image/png": "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\n"
                },
                "metadata": {}
              }
            ]
          }
        },
        "7b108306c2094332906f8c5acd00c017": {
          "model_module": "@jupyter-widgets/base",
          "model_name": "LayoutModel",
          "model_module_version": "1.2.0",
          "state": {
            "_model_module": "@jupyter-widgets/base",
            "_model_module_version": "1.2.0",
            "_model_name": "LayoutModel",
            "_view_count": null,
            "_view_module": "@jupyter-widgets/base",
            "_view_module_version": "1.2.0",
            "_view_name": "LayoutView",
            "align_content": null,
            "align_items": null,
            "align_self": null,
            "border": null,
            "bottom": null,
            "display": null,
            "flex": null,
            "flex_flow": null,
            "grid_area": null,
            "grid_auto_columns": null,
            "grid_auto_flow": null,
            "grid_auto_rows": null,
            "grid_column": null,
            "grid_gap": null,
            "grid_row": null,
            "grid_template_areas": null,
            "grid_template_columns": null,
            "grid_template_rows": null,
            "height": null,
            "justify_content": null,
            "justify_items": null,
            "left": null,
            "margin": null,
            "max_height": null,
            "max_width": null,
            "min_height": null,
            "min_width": null,
            "object_fit": null,
            "object_position": null,
            "order": null,
            "overflow": null,
            "overflow_x": null,
            "overflow_y": null,
            "padding": null,
            "right": null,
            "top": null,
            "visibility": null,
            "width": null
          }
        },
        "97002718b82f464aa3f974a9374155c5": {
          "model_module": "@jupyter-widgets/base",
          "model_name": "LayoutModel",
          "model_module_version": "1.2.0",
          "state": {
            "_model_module": "@jupyter-widgets/base",
            "_model_module_version": "1.2.0",
            "_model_name": "LayoutModel",
            "_view_count": null,
            "_view_module": "@jupyter-widgets/base",
            "_view_module_version": "1.2.0",
            "_view_name": "LayoutView",
            "align_content": null,
            "align_items": null,
            "align_self": null,
            "border": null,
            "bottom": null,
            "display": null,
            "flex": null,
            "flex_flow": null,
            "grid_area": null,
            "grid_auto_columns": null,
            "grid_auto_flow": null,
            "grid_auto_rows": null,
            "grid_column": null,
            "grid_gap": null,
            "grid_row": null,
            "grid_template_areas": null,
            "grid_template_columns": null,
            "grid_template_rows": null,
            "height": null,
            "justify_content": null,
            "justify_items": null,
            "left": null,
            "margin": null,
            "max_height": null,
            "max_width": null,
            "min_height": null,
            "min_width": null,
            "object_fit": null,
            "object_position": null,
            "order": null,
            "overflow": null,
            "overflow_x": null,
            "overflow_y": null,
            "padding": null,
            "right": null,
            "top": null,
            "visibility": null,
            "width": null
          }
        },
        "944cad87af8b4f41933af044f7d2b98a": {
          "model_module": "@jupyter-widgets/controls",
          "model_name": "SliderStyleModel",
          "model_module_version": "1.5.0",
          "state": {
            "_model_module": "@jupyter-widgets/controls",
            "_model_module_version": "1.5.0",
            "_model_name": "SliderStyleModel",
            "_view_count": null,
            "_view_module": "@jupyter-widgets/base",
            "_view_module_version": "1.2.0",
            "_view_name": "StyleView",
            "description_width": "",
            "handle_color": null
          }
        },
        "dc067b43dcb64810a7a4d116d2ff9ce2": {
          "model_module": "@jupyter-widgets/base",
          "model_name": "LayoutModel",
          "model_module_version": "1.2.0",
          "state": {
            "_model_module": "@jupyter-widgets/base",
            "_model_module_version": "1.2.0",
            "_model_name": "LayoutModel",
            "_view_count": null,
            "_view_module": "@jupyter-widgets/base",
            "_view_module_version": "1.2.0",
            "_view_name": "LayoutView",
            "align_content": null,
            "align_items": null,
            "align_self": null,
            "border": null,
            "bottom": null,
            "display": null,
            "flex": null,
            "flex_flow": null,
            "grid_area": null,
            "grid_auto_columns": null,
            "grid_auto_flow": null,
            "grid_auto_rows": null,
            "grid_column": null,
            "grid_gap": null,
            "grid_row": null,
            "grid_template_areas": null,
            "grid_template_columns": null,
            "grid_template_rows": null,
            "height": null,
            "justify_content": null,
            "justify_items": null,
            "left": null,
            "margin": null,
            "max_height": null,
            "max_width": null,
            "min_height": null,
            "min_width": null,
            "object_fit": null,
            "object_position": null,
            "order": null,
            "overflow": null,
            "overflow_x": null,
            "overflow_y": null,
            "padding": null,
            "right": null,
            "top": null,
            "visibility": null,
            "width": null
          }
        }
      }
    }
  },
  "nbformat": 4,
  "nbformat_minor": 0
}