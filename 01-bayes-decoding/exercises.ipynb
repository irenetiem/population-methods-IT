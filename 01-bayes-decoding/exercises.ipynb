{
  "cells": [
    {
      "cell_type": "markdown",
      "metadata": {
        "id": "nxlXUtJEg1xI"
      },
      "source": [
        "# Exercises"
      ]
    },
    {
      "cell_type": "code",
      "source": [
        "# get all files from the notebook here\n",
        "!git clone https://github.com/irenetiem/population-methods-IT\n",
        "\n",
        "import pickle\n",
        "import numpy as np\n",
        "import ipywidgets as widgets\n",
        "from ipywidgets import interact\n",
        "import matplotlib.pyplot as plt\n",
        "from tqdm import tqdm\n",
        "import seaborn as sns\n",
        "from scipy.stats import pearsonr\n",
        "import sys\n",
        "import os\n",
        "sys.path.append(os.path.abspath(\"/population-methods-IT/blob/main/01-bayes-decoding/bayes-decoding.ipynb\"))\n",
        "# from utils import download_data\n",
        "\n",
        "import urllib.request\n",
        "from os import remove\n",
        "import zipfile\n",
        "from pathlib import Path\n",
        "\n",
        "\n",
        "def download_data(url):\n",
        "\n",
        "    if url.endswith('download'):\n",
        "        URL = url\n",
        "    else:\n",
        "        URL = '/'.join((url, 'download'))\n",
        "\n",
        "    if URL:\n",
        "        response = urllib.request.urlopen(URL)\n",
        "        data = response.read()\n",
        "        response.close()\n",
        "\n",
        "        with open('data.zip', 'wb') as f:\n",
        "            f.write(data)\n",
        "\n",
        "    with zipfile.ZipFile('data.zip', 'r') as zip_ref:\n",
        "        zip_ref.extractall()\n",
        "\n",
        "    remove('data.zip')\n",
        "\n",
        "sns.set_theme(context='notebook',style='white',font_scale=1,\n",
        "              rc = {'axes.spines.top':False,'axes.spines.right':False})"
      ],
      "metadata": {
        "id": "hc-fnVYejhYD",
        "outputId": "c3b17513-7553-4a66-f574-bce77462a80c",
        "colab": {
          "base_uri": "https://localhost:8080/"
        }
      },
      "execution_count": 1,
      "outputs": [
        {
          "output_type": "stream",
          "name": "stdout",
          "text": [
            "Cloning into 'population-methods-IT'...\n",
            "remote: Enumerating objects: 268, done.\u001b[K\n",
            "remote: Counting objects: 100% (108/108), done.\u001b[K\n",
            "remote: Compressing objects: 100% (96/96), done.\u001b[K\n",
            "remote: Total 268 (delta 55), reused 34 (delta 12), pack-reused 160 (from 1)\u001b[K\n",
            "Receiving objects: 100% (268/268), 21.50 MiB | 11.43 MiB/s, done.\n",
            "Resolving deltas: 100% (123/123), done.\n"
          ]
        }
      ]
    },
    {
      "cell_type": "code",
      "source": [
        "download_data('https://surfdrive.surf.nl/files/index.php/s/TliAW2xObyy0keu')"
      ],
      "metadata": {
        "id": "Af3DzGicqH7q"
      },
      "execution_count": 2,
      "outputs": []
    },
    {
      "cell_type": "code",
      "source": [
        "#code: data import\n",
        "data_file = 'data/linear_track_data.pickle'\n",
        "with open(data_file, 'rb') as handle:\n",
        "    data = pickle.load(handle)\n",
        "\n",
        "x,t,spikes = data['x'],data['t'],data['spikes']\n",
        "track_length = data['track_length']\n",
        "fps = data['fps']\n",
        "n_cells = len(spikes)\n",
        "\n",
        "def plot_unit(i):\n",
        "    plt.plot(t, x)\n",
        "    plt.plot(spikes[i], np.interp(spikes[i], t, x), 'r.')\n",
        "\n",
        "interact(plot_unit, i = widgets.IntSlider(min=0, max=(n_cells-1), value=0))"
      ],
      "metadata": {
        "id": "7cdk94JQqI7N",
        "outputId": "4ba349d3-137c-4752-bee4-e8df78feb5f0",
        "colab": {
          "base_uri": "https://localhost:8080/",
          "height": 552,
          "referenced_widgets": [
            "a96131bb9e28474da8fbca036adb37cd",
            "3c321859a388483786d28689c42219f9",
            "b38f6561f13a4f33b8e423d61928649f",
            "d3eb3b356091430ca8a1bbc93df85d4c",
            "308a6130a0004a8a9985b885ce0a3b21",
            "87c29bae816340818e5e69affdc25908",
            "48aa486189a7456aa2502c19ddee8dc0"
          ]
        }
      },
      "execution_count": 3,
      "outputs": [
        {
          "output_type": "display_data",
          "data": {
            "text/plain": [
              "interactive(children=(IntSlider(value=0, description='i', max=99), Output()), _dom_classes=('widget-interact',…"
            ],
            "application/vnd.jupyter.widget-view+json": {
              "version_major": 2,
              "version_minor": 0,
              "model_id": "a96131bb9e28474da8fbca036adb37cd"
            }
          },
          "metadata": {}
        },
        {
          "output_type": "execute_result",
          "data": {
            "text/plain": [
              "<function __main__.plot_unit(i)>"
            ],
            "text/html": [
              "<div style=\"max-width:800px; border: 1px solid var(--colab-border-color);\"><style>\n",
              "      pre.function-repr-contents {\n",
              "        overflow-x: auto;\n",
              "        padding: 8px 12px;\n",
              "        max-height: 500px;\n",
              "      }\n",
              "\n",
              "      pre.function-repr-contents.function-repr-contents-collapsed {\n",
              "        cursor: pointer;\n",
              "        max-height: 100px;\n",
              "      }\n",
              "    </style>\n",
              "    <pre style=\"white-space: initial; background:\n",
              "         var(--colab-secondary-surface-color); padding: 8px 12px;\n",
              "         border-bottom: 1px solid var(--colab-border-color);\"><b>plot_unit</b><br/>def plot_unit(i)</pre><pre class=\"function-repr-contents function-repr-contents-collapsed\" style=\"\"><a class=\"filepath\" style=\"display:none\" href=\"#\">/tmp/ipython-input-3-4186710557.py</a>&lt;no docstring&gt;</pre></div>"
            ]
          },
          "metadata": {},
          "execution_count": 3
        }
      ]
    },
    {
      "cell_type": "markdown",
      "metadata": {
        "id": "afVd_GMYg1xP"
      },
      "source": [
        "## Exercise 1\n",
        "---\n",
        "\n",
        "You can find below the code that was used to generate the activity of place cells on a linear track.\n",
        "Use the code and the decoding procedure you lerned about in the lesson to explore how different features of the data impact our ability to decode position.\n",
        "In particular:\n",
        "\n",
        "A - Try to use different fractions of our data samples. How does the median error change when the the number of available sample gets larger? You do not need to re-generate any data, just randomly sub-sample the data to different fractions.\n",
        "\n",
        "B - How many place cells do we need to reliably decode position? Try to re-do the decoding using only 10 cell, then 20, and so on. How does the median error change? Does it reach an asymptote? (Also in this case, you do not need to re-generate the data, you can just select a random subset of cells each time)\n",
        "\n",
        "C - Generate new data using the code below, changing the firing rate noise (changing the value of the variable `noise firing_rate`). How does this noise impact the decoding?"
      ]
    },
    {
      "cell_type": "code",
      "source": [],
      "metadata": {
        "id": "Fd46ttb90200"
      },
      "execution_count": null,
      "outputs": []
    },
    {
      "cell_type": "markdown",
      "metadata": {
        "id": "TbXzMhuFg1xY"
      },
      "source": [
        "### Code for data generation"
      ]
    },
    {
      "cell_type": "code",
      "source": [
        "import numpy as np\n",
        "import scipy\n",
        "import scipy.stats\n",
        "import scipy.io\n",
        "import matplotlib\n",
        "import matplotlib.pyplot as plt\n",
        "\n",
        "%matplotlib inline\n",
        "plt.rcParams['figure.figsize'] = [10, 5]\n",
        "from ipywidgets import interact\n",
        "import ipywidgets as widgets"
      ],
      "metadata": {
        "id": "Pwd-jXCk1TEI"
      },
      "execution_count": 4,
      "outputs": []
    },
    {
      "cell_type": "code",
      "execution_count": 5,
      "metadata": {
        "id": "4dzzon9hg1xa"
      },
      "outputs": [],
      "source": [
        "track_length = 200. # the length of our linear track (eg in centimeter)\n",
        "average_firing_rate = 5 # the peak firing rate, averaged across the population\n",
        "n_cells = 100 # how many cells we are recording\n",
        "pf_centers = np.random.rand(n_cells) * track_length # the centers of the place fields for all cells drawn randomly with a uniform distribution on the track\n",
        "pf_size = np.random.gamma(10, size=n_cells) # the size (width) of the place fields, drawn randomly from a gamma distribution\n",
        "pf_rate = np.random.exponential(scale=average_firing_rate, size=n_cells) # the peak firing rate for each cell, drawn from an exponential distribution"
      ]
    },
    {
      "cell_type": "code",
      "execution_count": 6,
      "metadata": {
        "id": "U_ULy5wTg1xc"
      },
      "outputs": [],
      "source": [
        "bins = np.arange(0., 200.)\n",
        "true_firing_rate_maps = np.zeros((n_cells, len(bins)))\n",
        "for i in range(n_cells):\n",
        "    true_firing_rate_maps[i,:] = pf_rate[i] * np.exp(-((bins-pf_centers[i])**2)/(2*pf_size[i]**2))"
      ]
    },
    {
      "cell_type": "code",
      "execution_count": 7,
      "metadata": {
        "id": "sXnESqVqg1xd"
      },
      "outputs": [],
      "source": [
        "# GENERATE TRAJECTORY\n",
        "\n",
        "n_runs = 10\n",
        "use_stops = False\n",
        "av_running_speed = 10 # the average running speed (in cm/s)\n",
        "fps = 10 # the number of \"video frames\" per second\n",
        "running_speed_a = np.random.chisquare(10, size=n_runs) # running speed in the two directions\n",
        "running_speed_b = np.random.chisquare(10, size=n_runs)\n",
        "\n",
        "stopping_time_a = np.random.chisquare(15, size=n_runs) # the time the mouse will spend at the two ends of the track\n",
        "stopping_time_b = np.random.chisquare(15, size=n_runs)\n",
        "\n",
        "x = np.array([])\n",
        "\n",
        "for i in range(n_runs):\n",
        "    stop1 = np.ones((int(stopping_time_a[i]*fps),)) * 0.\n",
        "    run_length = len(bins) * fps / running_speed_a[i]\n",
        "    run1 = np.linspace(0., float(len(bins)-1), int(run_length))\n",
        "    stop2 = np.ones((int(stopping_time_b[i]*fps),)) * (len(bins)-1.)\n",
        "    run_length = len(bins) * fps / running_speed_b[i]\n",
        "    run2 = np.linspace(len(bins)-1., 0., int(run_length))\n",
        "    if use_stops:\n",
        "        x = np.concatenate((x, stop1, run1, stop2, run2))\n",
        "    else:\n",
        "         x = np.concatenate((x, run1, run2))\n",
        "t = np.arange(len(x))/fps"
      ]
    },
    {
      "cell_type": "code",
      "execution_count": 8,
      "metadata": {
        "id": "GzzqsPXXg1xe"
      },
      "outputs": [],
      "source": [
        "# sampling here\n",
        "# keep parameters\n",
        "\n",
        "sampling_rate = 10000.\n",
        "t_sampling = np.arange(0, t[-1], 1. / sampling_rate)\n",
        "x_sampling = np.floor(np.interp(t_sampling, t, x))\n",
        "noise_firing_rate = 0.1 # the baseline noise firing rate\n",
        "spikes = []#np.zeros(n_cells)\n",
        "\n",
        "for i in range(n_cells):\n",
        "    inst_rate = true_firing_rate_maps[i,x_sampling.astype(np.int32)] + noise_firing_rate\n",
        "    spikes_loc = np.random.poisson(inst_rate/sampling_rate)\n",
        "    sp = np.argwhere(spikes_loc)\n",
        "    t_sp = t_sampling[sp]\n",
        "    # for j in range(len(t_sp)):\n",
        "    #     spikes.append(t_sp[j]) # change shape of spikes\n",
        "    spikes.append(t_sp)"
      ]
    },
    {
      "cell_type": "code",
      "execution_count": 10,
      "metadata": {
        "id": "hIjJStO5g1xf"
      },
      "outputs": [],
      "source": [
        "import pickle\n",
        "\n",
        "file_name = 'linear_track_data.pickle' # change this name when you save new data\n",
        "\n",
        "out_data = {}\n",
        "out_data['x'] = x\n",
        "out_data['t'] = t\n",
        "out_data['spikes'] = spikes\n",
        "out_data['track_length'] = track_length\n",
        "out_data['fps'] = fps\n",
        "\n",
        "with open('/content/'+file_name,'wb') as f:\n",
        "    pickle.dump(out_data,f)"
      ]
    },
    {
      "cell_type": "code",
      "source": [
        "from scipy.stats import poisson"
      ],
      "metadata": {
        "id": "MIgjhYtj8bBW"
      },
      "execution_count": 27,
      "outputs": []
    },
    {
      "cell_type": "code",
      "source": [
        "# A\n",
        "\n",
        "# define func to decode and get MSE with sample of specific percentgae\n",
        "def decode_and_MSE(percentage, x, t, spikes, track_length, fps):\n",
        "\n",
        "  # get percentage of data sampled randomly\n",
        "  indices = np.random.choice(len(spikes), int(len(spikes)*percentage), replace=False)\n",
        "  subset = [spikes[i] for i in indices]\n",
        "\n",
        "  # decode\n",
        "  spike_positions = [np.interp(s, t, x) for s in subset]\n",
        "  space_bins = np.arange(0., track_length, 5.) # binning in bins of 5 cms\n",
        "\n",
        "  # we compute histograms for each cell\n",
        "  spikes_hist= [np.histogram(s, space_bins)[0] for s in spike_positions]\n",
        "  spikes_hist = np.asarray(spikes_hist)\n",
        "\n",
        "  # we also need an \"occupancy histogram\" in order to normalize the firing rates maps\n",
        "  occupancy = np.histogram(x, space_bins)[0] /  fps\n",
        "\n",
        "  firing_rate_maps = spikes_hist / occupancy\n",
        "  spikes_count= [np.histogram(s,t)[0] for s in subset]\n",
        "  spikes_count = np.asarray(spikes_count).T #\n",
        "\n",
        "\n",
        "  true_x = x[:-1] # get rid of last timepoint to have same length as binned spikes\n",
        "  decoding_times = t[:-1]\n",
        "\n",
        "  x_decoded = np.zeros_like(true_x)\n",
        "\n",
        "  for t_bin in tqdm(range(len(decoding_times))):\n",
        "      if sum(spikes_count[t_bin,:])>0: # Check if the time window contains spikes\n",
        "          posterior = np.empty(firing_rate_maps.shape[-1])\n",
        "\n",
        "          for i in range(len(posterior)):\n",
        "              # Note that we work with log so that we can sum probabilities\n",
        "              # instead of multiplying them\n",
        "              #posterior[i] = sum(np.log(poisson.pmf(spikes_count[t_bin,:],firing_rate_maps[:,i]/fps)+pow(1,-15)))\n",
        "              posterior[i] = sum(poisson.logpmf(spikes_count[t_bin,:],firing_rate_maps[:,i]/fps)+pow(10,-15))\n",
        "\n",
        "\n",
        "          x_decoded[t_bin] = space_bins[np.argmax(posterior)]\n",
        "      else:\n",
        "          x_decoded[t_bin] = np.nan\n",
        "\n",
        "  # error distribution\n",
        "  mse = np.sqrt((true_x-x_decoded)**2)\n",
        "  # print(mse)\n",
        "\n",
        "  return np.nanmedian(mse) # otherwise only nan"
      ],
      "metadata": {
        "id": "XiS_5BnWHQIJ"
      },
      "execution_count": 41,
      "outputs": []
    },
    {
      "cell_type": "code",
      "source": [
        "fractions = np.arange(0.1, 1.1, 0.1) # don't start at 0, then there won't be data\n",
        "track_mse = np.zeros_like(fractions)\n",
        "\n",
        "for i, frac in enumerate(fractions):\n",
        "  mse = decode_and_MSE(percentage=frac, x=x, t=t, spikes=spikes, track_length=track_length, fps=fps)\n",
        "  track_mse[i] = mse"
      ],
      "metadata": {
        "id": "2IoEqoC56fXC"
      },
      "execution_count": null,
      "outputs": []
    },
    {
      "cell_type": "code",
      "source": [
        "plt.figure(figsize=(10,5))\n",
        "plt.plot(fractions, track_mse, marker = '.')#, linewidth = 0)\n",
        "plt.xlabel('Fraction of data used')\n",
        "plt.ylabel('Median MSE')\n",
        "plt.show()"
      ],
      "metadata": {
        "colab": {
          "base_uri": "https://localhost:8080/",
          "height": 473
        },
        "id": "LeT4fHsM7LCc",
        "outputId": "b469d281-b0ce-43d9-e136-136cebd8271d"
      },
      "execution_count": 40,
      "outputs": [
        {
          "output_type": "display_data",
          "data": {
            "text/plain": [
              "<Figure size 1000x500 with 1 Axes>"
            ],
            "image/png": "[encoded data removed]"
          },
          "metadata": {}
        }
      ]
    },
    {
      "cell_type": "markdown",
      "source": [
        "## B\n",
        "\n",
        "10 out of 100 cells corresponds with 10%, so a fraction of 0.1. So for this exercise, we look at the graph above again and see that a larger fractions gives a smaller mean error. Depending on what MSE is needed to get reliable decoding results, the number of neurons can be read from the graph.\n",
        "\n",
        "It does not really look like it reaches an asymptote, especially as the value at 0.8 is quite high, I will need to calculate more points to check this."
      ],
      "metadata": {
        "id": "AIOh0RIT8nQk"
      }
    },
    {
      "cell_type": "code",
      "source": [
        "fractions_adj = np.arange(0.15, 1.05, 0.1) # don't start at 0, then there won't be data\n",
        "track_mse_adj = np.zeros_like(fractions)\n",
        "\n",
        "for i, frac in enumerate(fractions_adj):\n",
        "  mse = decode_and_MSE(percentage=frac, x=x, t=t, spikes=spikes, track_length=track_length, fps=fps)\n",
        "  track_mse_adj[i] = mse"
      ],
      "metadata": {
        "id": "WkHyM-Iw_voi"
      },
      "execution_count": null,
      "outputs": []
    },
    {
      "cell_type": "code",
      "source": [
        "plt.figure(figsize=(10,5))\n",
        "plt.scatter(fractions, track_mse, marker = '.', color = 'k')#, linewidth = 0)\n",
        "plt.scatter(fractions_adj, track_mse_adj, marker = '.', color = 'k')\n",
        "plt.xlabel('Fraction of data used')\n",
        "plt.ylabel('Median MSE')\n",
        "plt.show()"
      ],
      "metadata": {
        "colab": {
          "base_uri": "https://localhost:8080/",
          "height": 473
        },
        "id": "ks8PUhKz_29y",
        "outputId": "4e0d0cab-db04-4186-8aeb-73db217b3cbd"
      },
      "execution_count": 44,
      "outputs": [
        {
          "output_type": "display_data",
          "data": {
            "text/plain": [
              "<Figure size 1000x500 with 1 Axes>"
            ],
            "image/png": "[encoded data removed]"
          },
          "metadata": {}
        }
      ]
    },
    {
      "cell_type": "markdown",
      "source": [
        "Still does not look much like an asymptote."
      ],
      "metadata": {
        "id": "GOUcD0pxBuwO"
      }
    },
    {
      "cell_type": "markdown",
      "source": [
        "## C\n",
        "\n",
        "generating new data"
      ],
      "metadata": {
        "id": "Qkbjsdke9GPs"
      }
    },
    {
      "cell_type": "code",
      "source": [
        "# try a few values for noise firing rate\n",
        "\n",
        "nrfs = np.array([0.1, 0.3, 0.7, 1, 5])\n",
        "track_mse_different_noises = np.zeros_like(nrfs)\n",
        "\n",
        "for j, noise_firing_rate in enumerate(nrfs):\n",
        "  sampling_rate = 10000.\n",
        "  t_sampling = np.arange(0, t[-1], 1. / sampling_rate)\n",
        "  x_sampling = np.floor(np.interp(t_sampling, t, x))\n",
        "  spikes = []\n",
        "\n",
        "  for i in range(n_cells):\n",
        "      inst_rate = true_firing_rate_maps[i,x_sampling.astype(np.int32)] + noise_firing_rate\n",
        "      spikes_loc = np.random.poisson(inst_rate/sampling_rate)\n",
        "      sp = np.argwhere(spikes_loc)\n",
        "      t_sp = t_sampling[sp]\n",
        "      spikes.append(t_sp)\n",
        "\n",
        "  # calculate the MSE using the new spikes data and a fraction of 1\n",
        "  mse = decode_and_MSE(percentage=1, x=x, t=t, spikes=spikes, track_length=track_length, fps=fps)\n",
        "  track_mse_different_noises[j] = mse"
      ],
      "metadata": {
        "colab": {
          "base_uri": "https://localhost:8080/"
        },
        "id": "OH-LdfI-9KcU",
        "outputId": "c7d5d98a-4616-49c4-fe3a-595bf02c916d"
      },
      "execution_count": 48,
      "outputs": [
        {
          "output_type": "stream",
          "name": "stderr",
          "text": [
            "100%|██████████| 4476/4476 [00:30<00:00, 145.48it/s]\n",
            "100%|██████████| 4476/4476 [00:26<00:00, 168.29it/s]\n",
            "100%|██████████| 4476/4476 [00:26<00:00, 167.92it/s]\n",
            "100%|██████████| 4476/4476 [00:31<00:00, 143.94it/s]\n",
            "100%|██████████| 4476/4476 [00:25<00:00, 174.72it/s]\n"
          ]
        }
      ]
    },
    {
      "cell_type": "code",
      "source": [
        "plt.figure(figsize=(10,5))\n",
        "plt.scatter(nrfs, track_mse_different_noises, marker = '.')\n",
        "plt.xlabel('Noise firing rate')\n",
        "plt.ylabel('Median MSE')\n",
        "plt.show()"
      ],
      "metadata": {
        "colab": {
          "base_uri": "https://localhost:8080/",
          "height": 473
        },
        "id": "mAdp1Zr0AkBO",
        "outputId": "7efba12d-6988-4046-9e2b-1225ad9e8b6d"
      },
      "execution_count": 52,
      "outputs": [
        {
          "output_type": "display_data",
          "data": {
            "text/plain": [
              "<Figure size 1000x500 with 1 Axes>"
            ],
            "image/png": "[encoded data removed]"
          },
          "metadata": {}
        }
      ]
    },
    {
      "cell_type": "markdown",
      "source": [
        "As can be expected, the error increases (somewhat linearly) as the noise increases."
      ],
      "metadata": {
        "id": "6yk_DiYnD7fC"
      }
    },
    {
      "cell_type": "markdown",
      "metadata": {
        "id": "cTMMEG3ig1xV"
      },
      "source": [
        "## Exercise 2\n",
        "---\n",
        "In the loop implementation of the decoder, we used `poisson.logpmf(k,mu)` to calculate the log probability of observing $k$ spikes given an average firing rate of $\\mu$.\n",
        "This is mathematically equivalent to `np.log(poisson.pmf(k,mu))`, in which we calculate the probability, and then take the log.\n",
        "\n",
        "\n",
        "Re-run the decoding substituting this expression:\n",
        "\n",
        "```\n",
        "posterior[i] = sum(np.log(poisson.pmf(spikes_count[t_bin,:],firing_rate_maps[:,i]/fps)+pow(1,-15)))\n",
        "```\n",
        "\n",
        "To the line we are using to calculate the posterior.\n",
        "Do you see any difference in the results? What do you think this is due to?\n",
        "\n",
        "\n"
      ]
    },
    {
      "cell_type": "code",
      "source": [
        "# define a decoder for both models that plots the MSE graph\n",
        "\n",
        "def decode_and_plot_other_post(percentage, x, t, spikes, track_length, fps):\n",
        "\n",
        "  # get percentage of data sampled randomly\n",
        "  indices = np.random.choice(len(spikes), int(len(spikes)*percentage), replace=False)\n",
        "  subset = [spikes[i] for i in indices]\n",
        "\n",
        "  # decode\n",
        "  spike_positions = [np.interp(s, t, x) for s in subset]\n",
        "  space_bins = np.arange(0., track_length, 5.) # binning in bins of 5 cms\n",
        "\n",
        "  # we compute histograms for each cell\n",
        "  spikes_hist= [np.histogram(s, space_bins)[0] for s in spike_positions]\n",
        "  spikes_hist = np.asarray(spikes_hist)\n",
        "\n",
        "  # we also need an \"occupancy histogram\" in order to normalize the firing rates maps\n",
        "  occupancy = np.histogram(x, space_bins)[0] /  fps\n",
        "\n",
        "  firing_rate_maps = spikes_hist / occupancy\n",
        "  spikes_count= [np.histogram(s,t)[0] for s in subset]\n",
        "  spikes_count = np.asarray(spikes_count).T #\n",
        "\n",
        "\n",
        "  true_x = x[:-1] # get rid of last timepoint to have same length as binned spikes\n",
        "  decoding_times = t[:-1]\n",
        "\n",
        "  x_decoded = np.zeros_like(true_x)\n",
        "\n",
        "  for t_bin in tqdm(range(len(decoding_times))):\n",
        "      if sum(spikes_count[t_bin,:])>0: # Check if the time window contains spikes\n",
        "          posterior = np.empty(firing_rate_maps.shape[-1])\n",
        "\n",
        "          for i in range(len(posterior)):\n",
        "              # Note that we work with log so that we can sum probabilities\n",
        "              # instead of multiplying them\n",
        "              posterior[i] = sum(np.log(poisson.pmf(spikes_count[t_bin,:],firing_rate_maps[:,i]/fps)+pow(1,-15)))\n",
        "              # posterior[i] = sum(poisson.logpmf(spikes_count[t_bin,:],firing_rate_maps[:,i]/fps)+pow(10,-15))\n",
        "\n",
        "\n",
        "          x_decoded[t_bin] = space_bins[np.argmax(posterior)]\n",
        "      else:\n",
        "          x_decoded[t_bin] = np.nan\n",
        "\n",
        "  # error distribution\n",
        "  mse = np.sqrt((true_x-x_decoded)**2)\n",
        "  # print(mse)\n",
        "\n",
        "  mse = np.sqrt((true_x-x_decoded)**2)\n",
        "  sns.histplot(mse, label = 'other method')\n",
        "  plt.axvline(x = np.nanmedian(mse),c='r')\n",
        "  print(f'Median error: {np.nanmedian(mse)} cm')\n",
        "  # return np.nanmedian(mse) # otherwise only nan\n",
        "\n",
        "def decode_and_plot(percentage, x, t, spikes, track_length, fps):\n",
        "\n",
        "  # get percentage of data sampled randomly\n",
        "  indices = np.random.choice(len(spikes), int(len(spikes)*percentage), replace=False)\n",
        "  subset = [spikes[i] for i in indices]\n",
        "\n",
        "  # decode\n",
        "  spike_positions = [np.interp(s, t, x) for s in subset]\n",
        "  space_bins = np.arange(0., track_length, 5.) # binning in bins of 5 cms\n",
        "\n",
        "  # we compute histograms for each cell\n",
        "  spikes_hist= [np.histogram(s, space_bins)[0] for s in spike_positions]\n",
        "  spikes_hist = np.asarray(spikes_hist)\n",
        "\n",
        "  # we also need an \"occupancy histogram\" in order to normalize the firing rates maps\n",
        "  occupancy = np.histogram(x, space_bins)[0] /  fps\n",
        "\n",
        "  firing_rate_maps = spikes_hist / occupancy\n",
        "  spikes_count= [np.histogram(s,t)[0] for s in subset]\n",
        "  spikes_count = np.asarray(spikes_count).T #\n",
        "\n",
        "\n",
        "  true_x = x[:-1] # get rid of last timepoint to have same length as binned spikes\n",
        "  decoding_times = t[:-1]\n",
        "\n",
        "  x_decoded = np.zeros_like(true_x)\n",
        "\n",
        "  for t_bin in tqdm(range(len(decoding_times))):\n",
        "      if sum(spikes_count[t_bin,:])>0: # Check if the time window contains spikes\n",
        "          posterior = np.empty(firing_rate_maps.shape[-1])\n",
        "\n",
        "          for i in range(len(posterior)):\n",
        "              # Note that we work with log so that we can sum probabilities\n",
        "              # instead of multiplying them\n",
        "              # posterior[i] = sum(np.log(poisson.pmf(spikes_count[t_bin,:],firing_rate_maps[:,i]/fps)+pow(1,-15)))\n",
        "              posterior[i] = sum(poisson.logpmf(spikes_count[t_bin,:],firing_rate_maps[:,i]/fps)+pow(10,-15))\n",
        "\n",
        "\n",
        "          x_decoded[t_bin] = space_bins[np.argmax(posterior)]\n",
        "      else:\n",
        "          x_decoded[t_bin] = np.nan\n",
        "\n",
        "  # error distribution\n",
        "  mse = np.sqrt((true_x-x_decoded)**2)\n",
        "  # print(mse)\n",
        "\n",
        "  mse = np.sqrt((true_x-x_decoded)**2)\n",
        "  sns.histplot(mse, label = 'original method', color = 'g')\n",
        "  plt.axvline(x = np.nanmedian(mse),c='k')\n",
        "  print(f'Median error: {np.nanmedian(mse)} cm')\n",
        "  # return np.nanmedian(mse) # otherwise only nan"
      ],
      "metadata": {
        "id": "a77W7HzVCYXc"
      },
      "execution_count": 56,
      "outputs": []
    },
    {
      "cell_type": "code",
      "source": [
        "decode_and_plot_other_post(percentage  = 1, x=x, t=t, spikes=spikes, track_length=track_length, fps=fps)\n",
        "decode_and_plot(percentage  = 1, x=x, t=t, spikes=spikes, track_length=track_length, fps=fps)\n",
        "\n",
        "plt.legend()\n",
        "plt.show()"
      ],
      "metadata": {
        "colab": {
          "base_uri": "https://localhost:8080/",
          "height": 521
        },
        "id": "sTwmoIp9DJj0",
        "outputId": "11cdf84f-434d-4c31-da7f-3048e03a8c5a"
      },
      "execution_count": 57,
      "outputs": [
        {
          "output_type": "stream",
          "name": "stderr",
          "text": [
            "100%|██████████| 4476/4476 [00:28<00:00, 157.00it/s]\n"
          ]
        },
        {
          "output_type": "stream",
          "name": "stdout",
          "text": [
            "Median error: 10.483314794215808 cm\n"
          ]
        },
        {
          "output_type": "stream",
          "name": "stderr",
          "text": [
            "100%|██████████| 4476/4476 [00:25<00:00, 178.10it/s]\n"
          ]
        },
        {
          "output_type": "stream",
          "name": "stdout",
          "text": [
            "Median error: 4.779205069124423 cm\n"
          ]
        },
        {
          "output_type": "display_data",
          "data": {
            "text/plain": [
              "<Figure size 1000x500 with 1 Axes>"
            ],
            "image/png": "[encoded data removed]"
          },
          "metadata": {}
        }
      ]
    },
    {
      "cell_type": "markdown",
      "source": [
        "It seems that the other method of calculation posteriors on the same data leads to a larger MSE and wider spread distribution of errors. This might be beacause `poisson.pmf` calculates the logarithm directly and is better for numerically stable calculations."
      ],
      "metadata": {
        "id": "AKQAGSl_Db15"
      }
    },
    {
      "cell_type": "markdown",
      "metadata": {
        "id": "f83tl_5rg1xX"
      },
      "source": [
        "## Exercise 3\n",
        "---\n",
        "A - Estimate the quality of the sequence detection methods we saw in the lesson. How many false poistive does it find? How many false negatives?\n",
        "\n",
        "B - Investigate the effect of `noise_x_react` and `noise_t_react` on the false positive rate and the false negative rate of our detection procedure.\n",
        "\n",
        "C - What kind of sequence can our methods detect? What kind of activity, despide being sequential, could escape our detection method? Would you have an idea for a different method for sequence detection?\n"
      ]
    },
    {
      "cell_type": "markdown",
      "source": [
        "## A"
      ],
      "metadata": {
        "id": "F9Dp7to1GqZM"
      }
    },
    {
      "cell_type": "code",
      "source": [
        "# generate data\n",
        "\n",
        "n_events = 200 # number of reactivation events\n",
        "event_duration = 100 # in bins\n",
        "sampling_rate = 100 # sampling rate\n",
        "t_react = np.arange(0,100)\n",
        "noise_x_react=5; # Noise in the reactivation of the sequence\n",
        "noise_t_react=5; # Noise in the timing of the spikes\n",
        "noise_firing_rate = 0.1 # the baseline noise firing rate\n",
        "\n",
        "\n",
        "reactivation_events = np.zeros((n_events,event_duration))\n",
        "spikes_react = np.zeros((n_events,n_cells,event_duration))\n",
        "\n",
        "for event in range(n_events):\n",
        "    if(event<=n_events//2):\n",
        "    #Generate \"real\" sequences for the first half of events\n",
        "        x_start = np.random.uniform(0,track_length) # Starting point\n",
        "        x_end = np.random.uniform(0,track_length) # Ending point\n",
        "        x_react = np.linspace(x_start,x_end,event_duration) \\\n",
        "            +np.random.normal(0,noise_x_react,size=event_duration)\n",
        "\n",
        "    else:\n",
        "        #Pick locations randomly for the second half\n",
        "        x_react = np.random.uniform(0,track_length,size=event_duration);\n",
        "\n",
        "    x_react[x_react<0]=0;\n",
        "    x_react[x_react>track_length]=track_length\n",
        "\n",
        "    #store reactivation sequence\n",
        "    reactivation_events[event,:] = x_react\n",
        "\n",
        "\n",
        "    # Generate spikes according to the location being reactivated in this event\n",
        "\n",
        "    for i in range(n_cells):\n",
        "        binned_x = np.digitize(x_react,bins=np.linspace(0,track_length,firing_rate_maps.shape[-1]))-1\n",
        "        inst_rate = firing_rate_maps[i,binned_x] + np.random.normal(0,noise_firing_rate,size=len(binned_x))\n",
        "        inst_rate[inst_rate<0] = 0\n",
        "        spikes_loc = np.where(np.random.poisson(inst_rate/sampling_rate)>0)\n",
        "        spikes_loc = spikes_loc + np.round(np.random.normal(0,noise_t_react,size=len(spikes_loc)))\n",
        "        spikes_loc = spikes_loc[np.logical_and(spikes_loc>0,spikes_loc<event_duration)]\n",
        "        spikes_react[event,i,spikes_loc.astype(int)] = 1\n",
        "\n",
        "pfc_idxs = [np.argmax(rate_map) for rate_map in firing_rate_maps]\n",
        "sorted_idxs = np.argsort(pfc_idxs)\n",
        "\n",
        "\n",
        "event = 50\n",
        "plt.figure(figsize=(10,5))\n",
        "plt.title('Sequence event')\n",
        "plt.imshow(spikes_react[event,sorted_idxs,:], cmap='Greys', extent = [0, 200, 0, n_cells])\n",
        "plt.xlabel('location (cm)')\n",
        "plt.ylabel('cell #')\n",
        "\n",
        "event = 150\n",
        "plt.figure(figsize=(10,5))\n",
        "plt.title('Non-sequence event')\n",
        "plt.imshow(spikes_react[event,sorted_idxs,:], cmap='Greys', extent = [0, 200, 0, n_cells])\n",
        "plt.xlabel('location (cm)')\n",
        "plt.ylabel('cell #')"
      ],
      "metadata": {
        "colab": {
          "base_uri": "https://localhost:8080/",
          "height": 992
        },
        "id": "bT59njS57esf",
        "outputId": "96a52452-f78d-43a1-90fc-52ae648ae6ec"
      },
      "execution_count": 60,
      "outputs": [
        {
          "output_type": "execute_result",
          "data": {
            "text/plain": [
              "Text(0, 0.5, 'cell #')"
            ]
          },
          "metadata": {},
          "execution_count": 60
        },
        {
          "output_type": "display_data",
          "data": {
            "text/plain": [
              "<Figure size 1000x500 with 1 Axes>"
            ],
            "image/png": "[encoded data removed]"
          },
          "metadata": {}
        },
        {
          "output_type": "display_data",
          "data": {
            "text/plain": [
              "<Figure size 1000x500 with 1 Axes>"
            ],
            "image/png": "[encoded data removed]"
          },
          "metadata": {}
        }
      ]
    },
    {
      "cell_type": "code",
      "source": [
        "time_window = 10 # number of bins to aggregate during decoding\n",
        "\n",
        "reactivation_slope = np.zeros(n_events)\n",
        "\n",
        "for event in range(n_events):\n",
        "\n",
        "    event_spikes = spikes_react[event]\n",
        "    # First we bin the events in windows of 10 bins\n",
        "    spikes_sampled = np.zeros((n_cells,event_spikes.shape[1]//time_window))\n",
        "    # We generate a new spike matrix with the re-sized window\n",
        "    for t_r in range(1,event_spikes.shape[1]//time_window):\n",
        "        spikes_sampled[:,t_r] = np.sum(event_spikes[:,(t_r-1)*time_window :(t_r)*time_window],axis=1)\n",
        "\n",
        "# to do: bayesian decoding\n",
        "t_resize = 10 # We use spikes from multiple time windows for the decoding\n",
        "\n",
        "reactivation_slopes = np.zeros(n_events)\n",
        "reactivation_pvalues = np.zeros(n_events)\n",
        "\n",
        "for event in range(n_events):\n",
        "\n",
        "    event_spikes = spikes_react[event]\n",
        "    spikes_sampled = np.zeros((n_cells,event_spikes.shape[1]//t_resize))\n",
        "\n",
        "    # We generate a new spike matrix with the re-sized window\n",
        "    for t_r in range(1,event_spikes.shape[1]//t_resize):\n",
        "        spikes_sampled[:,t_r] = np.sum(event_spikes[:,(t_r-1)*t_resize :(t_r)*t_resize],axis=1)\n",
        "\n",
        "\n",
        "    # We then perform decoding on the aggregated spikes\n",
        "    x_decoded = np.zeros(spikes_sampled.shape[1])\n",
        "\n",
        "    for t_bin in range(spikes_sampled.shape[1]):\n",
        "\n",
        "        if sum(spikes_count[t_bin,:])>0: # Check if the time window contains spikes\n",
        "\n",
        "            posterior = np.empty(firing_rate_maps.shape[-1])\n",
        "            for i in range(len(posterior)):\n",
        "                posterior[i] = sum(poisson.logpmf(spikes_sampled[:,t_bin],firing_rate_maps[:,i]*t_resize/fps)+pow(1,-15))\n",
        "\n",
        "            x_decoded[t_bin] = space_bins[np.argmax(posterior)]\n",
        "\n",
        "        else:\n",
        "            x_decoded[t_bin] = np.nan\n",
        "\n",
        "        # We fit a line to the decoded positions, and save the slope\n",
        "        slope,_ = np.polyfit(np.arange(len(x_decoded)),x_decoded,deg=1)\n",
        "        reactivation_slopes[event] = slope\n",
        "        # And calculate the pvalue of the pearson correlation\n",
        "        corr = pearsonr(np.arange(len(x_decoded)),x_decoded)\n",
        "        reactivation_pvalues[event] = corr[1]"
      ],
      "metadata": {
        "id": "PM1D5ZQyIGVi",
        "outputId": "29b0948a-18a5-4168-ecde-9edfb213d9ae",
        "colab": {
          "base_uri": "https://localhost:8080/"
        }
      },
      "execution_count": 61,
      "outputs": [
        {
          "output_type": "stream",
          "name": "stderr",
          "text": [
            "/tmp/ipython-input-61-2865794393.py:50: ConstantInputWarning: An input array is constant; the correlation coefficient is not defined.\n",
            "  corr = pearsonr(np.arange(len(x_decoded)),x_decoded)\n",
            "/tmp/ipython-input-61-2865794393.py:50: ConstantInputWarning: An input array is constant; the correlation coefficient is not defined.\n",
            "  corr = pearsonr(np.arange(len(x_decoded)),x_decoded)\n",
            "/tmp/ipython-input-61-2865794393.py:50: ConstantInputWarning: An input array is constant; the correlation coefficient is not defined.\n",
            "  corr = pearsonr(np.arange(len(x_decoded)),x_decoded)\n",
            "/tmp/ipython-input-61-2865794393.py:50: ConstantInputWarning: An input array is constant; the correlation coefficient is not defined.\n",
            "  corr = pearsonr(np.arange(len(x_decoded)),x_decoded)\n",
            "/tmp/ipython-input-61-2865794393.py:50: ConstantInputWarning: An input array is constant; the correlation coefficient is not defined.\n",
            "  corr = pearsonr(np.arange(len(x_decoded)),x_decoded)\n",
            "/tmp/ipython-input-61-2865794393.py:50: ConstantInputWarning: An input array is constant; the correlation coefficient is not defined.\n",
            "  corr = pearsonr(np.arange(len(x_decoded)),x_decoded)\n"
          ]
        }
      ]
    }
  ],
  "metadata": {
    "kernelspec": {
      "display_name": "Python 3 (ipykernel)",
      "language": "python",
      "name": "python3"
    },
    "language_info": {
      "codemirror_mode": {
        "name": "ipython",
        "version": 3
      },
      "file_extension": ".py",
      "mimetype": "text/x-python",
      "name": "python",
      "nbconvert_exporter": "python",
      "pygments_lexer": "ipython3",
      "version": "3.10.8"
    },
    "vscode": {
      "interpreter": {
        "hash": "ec757111aa82fc412dab5a41ba1a33fdb6db5c8112df3ff06fec0dbff050b412"
      }
    },
    "colab": {
      "provenance": []
    },
    "widgets": {
      "application/vnd.jupyter.widget-state+json": {
        "a96131bb9e28474da8fbca036adb37cd": {
          "model_module": "@jupyter-widgets/controls",
          "model_name": "VBoxModel",
          "model_module_version": "1.5.0",
          "state": {
            "_dom_classes": [
              "widget-interact"
            ],
            "_model_module": "@jupyter-widgets/controls",
            "_model_module_version": "1.5.0",
            "_model_name": "VBoxModel",
            "_view_count": null,
            "_view_module": "@jupyter-widgets/controls",
            "_view_module_version": "1.5.0",
            "_view_name": "VBoxView",
            "box_style": "",
            "children": [
              "IPY_MODEL_3c321859a388483786d28689c42219f9",
              "IPY_MODEL_b38f6561f13a4f33b8e423d61928649f"
            ],
            "layout": "IPY_MODEL_d3eb3b356091430ca8a1bbc93df85d4c"
          }
        },
        "3c321859a388483786d28689c42219f9": {
          "model_module": "@jupyter-widgets/controls",
          "model_name": "IntSliderModel",
          "model_module_version": "1.5.0",
          "state": {
            "_dom_classes": [],
            "_model_module": "@jupyter-widgets/controls",
            "_model_module_version": "1.5.0",
            "_model_name": "IntSliderModel",
            "_view_count": null,
            "_view_module": "@jupyter-widgets/controls",
            "_view_module_version": "1.5.0",
            "_view_name": "IntSliderView",
            "continuous_update": true,
            "description": "i",
            "description_tooltip": null,
            "disabled": false,
            "layout": "IPY_MODEL_308a6130a0004a8a9985b885ce0a3b21",
            "max": 99,
            "min": 0,
            "orientation": "horizontal",
            "readout": true,
            "readout_format": "d",
            "step": 1,
            "style": "IPY_MODEL_87c29bae816340818e5e69affdc25908",
            "value": 60
          }
        },
        "b38f6561f13a4f33b8e423d61928649f": {
          "model_module": "@jupyter-widgets/output",
          "model_name": "OutputModel",
          "model_module_version": "1.0.0",
          "state": {
            "_dom_classes": [],
            "_model_module": "@jupyter-widgets/output",
            "_model_module_version": "1.0.0",
            "_model_name": "OutputModel",
            "_view_count": null,
            "_view_module": "@jupyter-widgets/output",
            "_view_module_version": "1.0.0",
            "_view_name": "OutputView",
            "layout": "IPY_MODEL_48aa486189a7456aa2502c19ddee8dc0",
            "msg_id": "",
            "outputs": [
              {
                "output_type": "display_data",
                "data": {
                  "text/plain": "<Figure size 640x480 with 1 Axes>",
                  "image/png": "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\n"
                },
                "metadata": {}
              }
            ]
          }
        },
        "d3eb3b356091430ca8a1bbc93df85d4c": {
          "model_module": "@jupyter-widgets/base",
          "model_name": "LayoutModel",
          "model_module_version": "1.2.0",
          "state": {
            "_model_module": "@jupyter-widgets/base",
            "_model_module_version": "1.2.0",
            "_model_name": "LayoutModel",
            "_view_count": null,
            "_view_module": "@jupyter-widgets/base",
            "_view_module_version": "1.2.0",
            "_view_name": "LayoutView",
            "align_content": null,
            "align_items": null,
            "align_self": null,
            "border": null,
            "bottom": null,
            "display": null,
            "flex": null,
            "flex_flow": null,
            "grid_area": null,
            "grid_auto_columns": null,
            "grid_auto_flow": null,
            "grid_auto_rows": null,
            "grid_column": null,
            "grid_gap": null,
            "grid_row": null,
            "grid_template_areas": null,
            "grid_template_columns": null,
            "grid_template_rows": null,
            "height": null,
            "justify_content": null,
            "justify_items": null,
            "left": null,
            "margin": null,
            "max_height": null,
            "max_width": null,
            "min_height": null,
            "min_width": null,
            "object_fit": null,
            "object_position": null,
            "order": null,
            "overflow": null,
            "overflow_x": null,
            "overflow_y": null,
            "padding": null,
            "right": null,
            "top": null,
            "visibility": null,
            "width": null
          }
        },
        "308a6130a0004a8a9985b885ce0a3b21": {
          "model_module": "@jupyter-widgets/base",
          "model_name": "LayoutModel",
          "model_module_version": "1.2.0",
          "state": {
            "_model_module": "@jupyter-widgets/base",
            "_model_module_version": "1.2.0",
            "_model_name": "LayoutModel",
            "_view_count": null,
            "_view_module": "@jupyter-widgets/base",
            "_view_module_version": "1.2.0",
            "_view_name": "LayoutView",
            "align_content": null,
            "align_items": null,
            "align_self": null,
            "border": null,
            "bottom": null,
            "display": null,
            "flex": null,
            "flex_flow": null,
            "grid_area": null,
            "grid_auto_columns": null,
            "grid_auto_flow": null,
            "grid_auto_rows": null,
            "grid_column": null,
            "grid_gap": null,
            "grid_row": null,
            "grid_template_areas": null,
            "grid_template_columns": null,
            "grid_template_rows": null,
            "height": null,
            "justify_content": null,
            "justify_items": null,
            "left": null,
            "margin": null,
            "max_height": null,
            "max_width": null,
            "min_height": null,
            "min_width": null,
            "object_fit": null,
            "object_position": null,
            "order": null,
            "overflow": null,
            "overflow_x": null,
            "overflow_y": null,
            "padding": null,
            "right": null,
            "top": null,
            "visibility": null,
            "width": null
          }
        },
        "87c29bae816340818e5e69affdc25908": {
          "model_module": "@jupyter-widgets/controls",
          "model_name": "SliderStyleModel",
          "model_module_version": "1.5.0",
          "state": {
            "_model_module": "@jupyter-widgets/controls",
            "_model_module_version": "1.5.0",
            "_model_name": "SliderStyleModel",
            "_view_count": null,
            "_view_module": "@jupyter-widgets/base",
            "_view_module_version": "1.2.0",
            "_view_name": "StyleView",
            "description_width": "",
            "handle_color": null
          }
        },
        "48aa486189a7456aa2502c19ddee8dc0": {
          "model_module": "@jupyter-widgets/base",
          "model_name": "LayoutModel",
          "model_module_version": "1.2.0",
          "state": {
            "_model_module": "@jupyter-widgets/base",
            "_model_module_version": "1.2.0",
            "_model_name": "LayoutModel",
            "_view_count": null,
            "_view_module": "@jupyter-widgets/base",
            "_view_module_version": "1.2.0",
            "_view_name": "LayoutView",
            "align_content": null,
            "align_items": null,
            "align_self": null,
            "border": null,
            "bottom": null,
            "display": null,
            "flex": null,
            "flex_flow": null,
            "grid_area": null,
            "grid_auto_columns": null,
            "grid_auto_flow": null,
            "grid_auto_rows": null,
            "grid_column": null,
            "grid_gap": null,
            "grid_row": null,
            "grid_template_areas": null,
            "grid_template_columns": null,
            "grid_template_rows": null,
            "height": null,
            "justify_content": null,
            "justify_items": null,
            "left": null,
            "margin": null,
            "max_height": null,
            "max_width": null,
            "min_height": null,
            "min_width": null,
            "object_fit": null,
            "object_position": null,
            "order": null,
            "overflow": null,
            "overflow_x": null,
            "overflow_y": null,
            "padding": null,
            "right": null,
            "top": null,
            "visibility": null,
            "width": null
          }
        }
      }
    }
  },
  "nbformat": 4,
  "nbformat_minor": 0
}