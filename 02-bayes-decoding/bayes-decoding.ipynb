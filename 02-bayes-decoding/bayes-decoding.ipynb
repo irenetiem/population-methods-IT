{
 "cells": [
  {
   "cell_type": "markdown",
   "metadata": {},
   "source": [
    "# Bayesian decoding of neural activity"
   ]
  },
  {
   "cell_type": "markdown",
   "metadata": {},
   "source": [
    "<div class=\"warning\" style='padding:0.5em;background-color:#f1f1f1;border:1px solid black;width:95%'>\n",
    "\n",
    "Lesson time: 60 m   \n",
    "Contributors: Federico Stella, Davide Spalla\n",
    "\n",
    "---\n",
    "### In this lesson you will learn:\n",
    "- What a bayesian decoder is and how to use it\n",
    "- How to decode the position of an animal running in one and two dimensions\n",
    "- How to use decoding techniques to investigate neural activity during sleep\n",
    "\n",
    "</div>\n"
   ]
  },
  {
   "cell_type": "markdown",
   "metadata": {},
   "source": [
    "## Introduction\n",
    "---\n",
    " \n",
    "In this lesson we will take a look at some techniques aimed at \"reading\" neural activity and allowing us to interpret its content and to evaluate how much information it carries about a specific set of stimuli, conditions or states. \n",
    "\n"
   ]
  },
  {
   "cell_type": "markdown",
   "metadata": {},
   "source": [
    "## Naive Bayes decoding\n",
    "---\n",
    " Bayesian decoders are a simple but powerful tool for decoding the value of a stimulus from the observed neural activity.\n",
    " Let $P(s)$ denote the probability of presentation of stimulus $s$ (belonging to a set $S$) and $P(r|s)$ denote the conditional probability of obtaining a population response $r$ (out of a response set $R$) when stimulus s is presented. Using Bayes' theorem, we can write the probability of the stimulus given the response:\n",
    "\n",
    " $$P(s|r) = \\frac{P(r|s)P(s)}{P(r)}$$\n",
    "\n",
    "This equation gives the posterior probability that, given a response $r$, stimulus $s$ was presented. \n",
    "Bayesian decoding calculates from this posterior probability distribution a single prediction of the most likely stimulus, i.e. the maximum of the posterior distribution. \n",
    "\n",
    "In the case of a neural population, $P(r|s)$ lives in an $N$ dimensional space, where $N$ is the number of observed neuron, and its estimation can be a daunting problem. We can, however, make the simplifying assumption that the activity of each neuron is independent.In this case, we can factorize likelihood as:\n",
    "\n",
    "$$P(r|s)=\\prod_{i=1}^{N}P(r_{i}|s)$$\n",
    "\n",
    "Note that, since we are generally interested in finding the maximum of the posterior distribtuion, we often do not need to evaluate the denominator $P(r)$ (which is usually difficult to calculate).\n",
    "Moreover, if the prior $P(s)$ is flat (each stimulus value is equiprobable a priori), the problem simplifies further, and we are left with the follwing expression for the decoded stimulus value:\n",
    "\n",
    "$$s^{*}=argmax_{s}(\\prod_{i=1}^{N}P(r_{i}|s))$$\n",
    "\n",
    "## more on poisson cell, log likelihood and final formula\n",
    "\n",
    "\n"
   ]
  },
  {
   "cell_type": "markdown",
   "metadata": {},
   "source": [
    "### Decoding position on a linear track\n",
    "---\n",
    "\n",
    "As an example, let's look at how we can decode the position of the animal on a linear track from the activity of its hippocampal place cells. We will start from simulated data for a clearer example, then move on to some real data.\n",
    "For the simulated data, well' use some generated with the code you can find in the lesson on [place cells]() of this course.\n",
    "\n",
    "First, let's import the data:\n",
    "\n"
   ]
  },
  {
   "cell_type": "code",
   "execution_count": 35,
   "metadata": {},
   "outputs": [],
   "source": [
    "#code: data import"
   ]
  },
  {
   "cell_type": "markdown",
   "metadata": {},
   "source": [
    "To perform bayesian decoding, we need to estimate $P(r_{i}|s)$. This is done by computiong the firing rate maps of each cell:"
   ]
  },
  {
   "cell_type": "code",
   "execution_count": null,
   "metadata": {},
   "outputs": [],
   "source": [
    "## ratemap code"
   ]
  },
  {
   "cell_type": "markdown",
   "metadata": {},
   "source": [
    "Now we can apply the equations we derived, to decode the position of the animal at each time"
   ]
  },
  {
   "cell_type": "code",
   "execution_count": null,
   "metadata": {},
   "outputs": [],
   "source": [
    "# code decoding\n",
    "x_decoded=zeros(size(spikes,2),1);\n",
    "for t_bin=1:size(spikes,2)\n",
    "    \n",
    "    if(sum(spikes(:,t_bin),1)>0) % Check if the time window contains spikes\n",
    "    \n",
    "    Post_p=NaN(size(estim_firing_rate,2),1);\n",
    "    for i=1:size(estim_firing_rate,2)\n",
    "        % Note that we work with log so that we can sum probabilities\n",
    "        % instead of multiplying them \n",
    "        Post_p(i)=sum(log(poisspdf(spikes(:,t_bin),estim_firing_rate(:,i)/sampling_rate)));\n",
    "       \n",
    "    end\n",
    "\n",
    "    x_decoded(t_bin) = find(Post_p==nanmax(Post_p),1,'first');\n",
    "    else\n",
    "    x_decoded(t_bin) = NaN;   \n",
    "    end\n",
    "end\n"
   ]
  },
  {
   "cell_type": "markdown",
   "metadata": {},
   "source": [
    "Let's now look at the results. Let's plot the decoded trajectory against the true one, and look at the distribution of errors"
   ]
  },
  {
   "cell_type": "code",
   "execution_count": null,
   "metadata": {},
   "outputs": [],
   "source": []
  },
  {
   "cell_type": "markdown",
   "metadata": {},
   "source": [
    "### Decoding position in 2 dimensions\n",
    "---\n"
   ]
  },
  {
   "cell_type": "code",
   "execution_count": null,
   "metadata": {},
   "outputs": [],
   "source": [
    "# code"
   ]
  },
  {
   "cell_type": "markdown",
   "metadata": {},
   "source": [
    "## Sequential reactivation during sleep\n",
    "---\n",
    "\n",
    "The use of decoding methods is not limited to measure the amount of information that a neural population carries about a specific set of stimuli, or to predict what stimulus is present at a given time. It is extremely useful to interpret the content of neural activity when no stimulus is present and such activity is spontaneously generated by the network and is not elicited by a specific stimulus. \n",
    "In the case of the hippocampus it has now been extensively observed that during rest periods (either while the animal is standing still, waiting somewhere, or while it is sleeping) place cells reactivate specific patterns of activity corresponding to sequences of locations in the environment. This phenomenon, called \"replay\" is thought to be critical for the formation of memory, for the acquisition of novel knowledge and for the reorganization of different sorts of information in the brain (You can read [this review](https://www.sciencedirect.com/science/article/abs/pii/S0166223610000172?via%3Dihub) for an overview on this vast and ebullient field of research).    \n",
    "Here we want simulate the occurrence of such reactivation events. Some of them will actually contain sequences, that is, the neural activity will represents a series of locations in the order they appear on the linear track. Other reactivation events will instead contain activity representing locations of the linear track, but these locations will be randomly drawn, so they will present no clear ordering. "
   ]
  },
  {
   "cell_type": "code",
   "execution_count": null,
   "metadata": {},
   "outputs": [],
   "source": [
    "spikes_react_events = cell(200,1); %200 reactivation events\n",
    "\n",
    "for event=1:200\n",
    "\n",
    "sampling_rate = 100;\n",
    "\n",
    "t_react = 1:100;\n",
    "\n",
    "\n",
    "\n",
    "noise_x_react=5; % Noise in the reactivation of the sequence\n",
    "noise_t_react=5; % Noise in the timing of the spikes \n",
    "\n",
    "if(event<=100)\n",
    "    % Generate \"real\" sequences for the first half of events\n",
    "    x_start = rand(1)*track_length; % Starting point\n",
    "    x_end = rand(1)*track_length;% Ending point\n",
    "    x_react = ceil(linspace(x_start,x_end,100)+randn(1,100)*noise_x_react)';\n",
    "elseif(event>100)\n",
    "    % Pick locations randomly for the second half \n",
    "    x_react = ceil(rand(100,1)*track_length);\n",
    "end\n",
    "\n",
    "x_react(x_react<1)=1;\n",
    "x_react(x_react>track_length)=track_length;\n",
    "\n",
    "noise_firing_rate = 0.1; % the baseline noise firing rate\n",
    "\n",
    "spikes_react = zeros(n_cells,numel(t_react));\n",
    "\n",
    "% Generate spikes according to the location being reactivated in this event\n",
    "for i=1:n_cells\n",
    "    inst_rate = true_firing_rate(i,x_react) + randn(1,numel(x_react))*noise_firing_rate;\n",
    "    inst_rate(inst_rate<0) = 0;\n",
    "    spikes_loc = find(poissrnd(inst_rate/sampling_rate));\n",
    "    spikes_loc = spikes_loc + round(randn(numel(spikes_loc),1)*noise_t_react);\n",
    "    spikes_loc = spikes_loc(ismember(spikes_loc,1:100));\n",
    "    spikes_react(i,spikes_loc)=1;\n",
    "    \n",
    "end\n",
    "% Put the data in a cell-array\n",
    "spikes_react_events{event} = spikes_react;\n",
    "\n",
    "end\n",
    "\n",
    "\n",
    "% Reorder cells in terms of the position of their place field on the track \n",
    "[~,pf_order]=sort(pf_centers,'ascend');\n",
    "\n",
    "%We can use this reordering to \"visualize the reactivation\"\n",
    "% An example of a sequential reactivation \n",
    "Event_Spikes=spikes_react_events{5};\n",
    "spy(Event_Spikes(pf_order,:))\n",
    "\n",
    "% An example of a non-sequential reactivation\n",
    "Event_Spikes=spikes_react_events{102};\n",
    "spy(Event_Spikes(pf_order,:))"
   ]
  },
  {
   "cell_type": "markdown",
   "metadata": {},
   "source": [
    "We can now use bayesian decoding to detect reactivated sequences among these events."
   ]
  },
  {
   "cell_type": "code",
   "execution_count": null,
   "metadata": {},
   "outputs": [],
   "source": [
    "t_resize = 10; % We use spikes from multiple time windows for the decoding\n",
    "\n",
    "reactivation_slope = zeros(200,1);\n",
    "for event=1:200\n",
    "\n",
    "    spikes_react = spikes_react_events{event};\n",
    "    \n",
    "\n",
    "    spikes_react_sampled = zeros(n_cells,size(spikes_react,2)/t_resize);\n",
    "\n",
    "% We generate a new spike matrix with the re-sized window\n",
    "for t_r=1:100/t_resize\n",
    "spikes_react_sampled(:,t_r) = sum(spikes_react(:,(t_r-1)*10+1:(t_r)*10),2);\n",
    "end\n",
    "\n",
    "%And then we perform the same Bayesian decoding as before \n",
    "x_decoded=zeros(size(spikes_react_sampled,2),1);\n",
    "for t_bin=1:size(spikes_react_sampled,2)\n",
    "    \n",
    "    if(sum(spikes_react_sampled(:,t_bin),1)>0) % Check if the time window contains spikes\n",
    "    \n",
    "    Post_p=NaN(size(estim_firing_rate,2),1);\n",
    "    for i=1:size(estim_firing_rate,2)\n",
    "        \n",
    "        Post_p(i)=sum(log(poisspdf(spikes_react_sampled(:,t_bin),estim_firing_rate(:,i)/sampling_rate*t_resize)));\n",
    "       \n",
    "    end\n",
    "\n",
    "    x_decoded(t_bin) = find(Post_p==nanmax(Post_p),1,'first');\n",
    "    else\n",
    "    x_decoded(t_bin) = NaN;   \n",
    "    end\n",
    "end\n",
    "\n",
    "% Linear fit of \n",
    "%beta = polyfit(1:numel(x_decoded),x_decoded',1);\n",
    "[rr,pp] = corr((1:numel(x_decoded))',x_decoded);\n",
    "\n",
    "reactivation_slope(event) = pp;%beta(1);\n",
    "\n",
    "\n",
    "end\n"
   ]
  },
  {
   "cell_type": "markdown",
   "metadata": {},
   "source": [
    "<div class=\"warning\" style='padding:0.5em; background-color:#f1f1f1;border:1px solid black;width:95%'>\n",
    "\n",
    "### Key points \n",
    "\n",
    "- Naive Bayes decoders use bayes' formula to estimate the probability of observing a stimulus given a certain pattern of neural responses\n",
    "- In its simplest form, this algorithms relies on the assumption of *flat stimulus prior*, *and independence between neurons*\n",
    "- This decoder can be used to recover the animal position during 1D and 2D navigation\n",
    "- Decoding approaches can be used to investigate spontaneous neural activity during sleep or rest."
   ]
  },
  {
   "cell_type": "markdown",
   "metadata": {},
   "source": [
    "<div class=\"warning\" style='padding:0.5em; background-color:#f1f1f1;border:1px solid black;width:95%'>\n",
    "\n",
    "### References and resources\n",
    "\n",
    "**Books & papers**\n",
    "* Review on neural decoding: https://www.nature.com/articles/nrn2578\n",
    "* Review on information processing in neural populations: https://www.nature.com/articles/35039062 \n",
    "* Review on hippocampal replay and reactivation: https://www.sciencedirect.com/science/article/abs/pii/S0166223610000172?via%3Dihub \n",
    "\n",
    "**Websites & blogposts**\n",
    "\n",
    "**Software**\n",
    "* A python package for neural decoding: https://github.com/KordingLab/Neural_Decoding\n",
    "\n"
   ]
  },
  {
   "cell_type": "markdown",
   "metadata": {},
   "source": [
    "## Exercises\n",
    "You can find the exercises for this lessons in [exercises.ipynb](./exercises.ipynb)"
   ]
  },
  {
   "cell_type": "markdown",
   "metadata": {},
   "source": []
  }
 ],
 "metadata": {
  "kernelspec": {
   "display_name": "Python 3.8.8 ('base')",
   "language": "python",
   "name": "python3"
  },
  "language_info": {
   "codemirror_mode": {
    "name": "ipython",
    "version": 3
   },
   "file_extension": ".py",
   "mimetype": "text/x-python",
   "name": "python",
   "nbconvert_exporter": "python",
   "pygments_lexer": "ipython3",
   "version": "3.8.8"
  },
  "vscode": {
   "interpreter": {
    "hash": "ec757111aa82fc412dab5a41ba1a33fdb6db5c8112df3ff06fec0dbff050b412"
   }
  }
 },
 "nbformat": 4,
 "nbformat_minor": 4
}
