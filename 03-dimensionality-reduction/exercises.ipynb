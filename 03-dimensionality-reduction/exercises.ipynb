{
  "cells": [
    {
      "cell_type": "markdown",
      "metadata": {
        "id": "JzsRTjyjbob5"
      },
      "source": [
        "# Exercises\n",
        "\n",
        "---"
      ]
    },
    {
      "cell_type": "code",
      "source": [
        "# connect to git to load all libraries and data\n",
        "\n",
        "# get all files from the notebook here\n",
        "!rm -rf population-methods-IT\n",
        "!git clone https://github.com/irenetiem/population-methods-IT\n",
        "\n",
        "import numpy as np\n",
        "from scipy import io\n",
        "from sklearn.datasets import load_digits\n",
        "from sklearn.preprocessing import StandardScaler\n",
        "from sklearn.decomposition import PCA\n",
        "import matplotlib.pylab as plt\n",
        "import seaborn as sns\n",
        "import sys\n",
        "import os\n",
        "sys.path.append(os.path.abspath(\"population-methods-IT/03-dimensionality-reduction/code\"))\n",
        "from utils import download_data\n",
        "\n",
        "sns.set_theme(context='notebook',style='white',font_scale=1.5,\n",
        "              rc = {'axes.spines.top':False,'axes.spines.right':False})\n",
        "\n",
        "# download lesson data\n",
        "download_data('https://surfdrive.surf.nl/files/index.php/s/uh8XZNenSfuR2fq')"
      ],
      "metadata": {
        "id": "iP1dV3dScbRG",
        "outputId": "4ec0a6fa-2218-4163-99f2-6297fdbbd9ef",
        "colab": {
          "base_uri": "https://localhost:8080/"
        }
      },
      "execution_count": 1,
      "outputs": [
        {
          "output_type": "stream",
          "name": "stdout",
          "text": [
            "Cloning into 'population-methods-IT'...\n",
            "remote: Enumerating objects: 208, done.\u001b[K\n",
            "remote: Counting objects: 100% (48/48), done.\u001b[K\n",
            "remote: Compressing objects: 100% (36/36), done.\u001b[K\n",
            "remote: Total 208 (delta 14), reused 36 (delta 12), pack-reused 160 (from 1)\u001b[K\n",
            "Receiving objects: 100% (208/208), 17.51 MiB | 12.83 MiB/s, done.\n",
            "Resolving deltas: 100% (82/82), done.\n"
          ]
        }
      ]
    },
    {
      "cell_type": "markdown",
      "metadata": {
        "id": "xHqmmEfHbob9"
      },
      "source": [
        "## Exercise 1: structured and ustructured images\n",
        "Write a function that outputs the number of PC you have to choose to retain a given percentage of explained variance.\n",
        "Use this funtion on the  handwritten digit data, and plot the number of PC needed to retain a certain fraction of EVR, for a few vaules of EVR.\n",
        "\n",
        "Compare this curve to the one you can obtain in unstructured images: either generate images with the same shape of our data or randomly permute the pixels in each image independenlty. How does the number of PC needed to retain a certain fraction of the variance in this case compare to the number needed for digit images?"
      ]
    },
    {
      "cell_type": "code",
      "source": [
        "# function to output the number of PC to choose to retain a given percentage\n",
        "# of explained variance\n",
        "\n",
        "def num_PC(dataset, percentage):\n",
        "  \"\"\"func that returns the number of PC to choose to retain a given percentage\n",
        "  of explained variance\n",
        "\n",
        "  input\n",
        "  dataset: eg. MNIST digit data\n",
        "  percentage: float, perfered percentage\"\"\"\n",
        "\n",
        "  # load the data and perform PCA\n",
        "  images = dataset.data\n",
        "\n",
        "  scaler = StandardScaler()\n",
        "  X =scaler.fit_transform(images)\n",
        "\n",
        "  pca = PCA()\n",
        "  pca.fit(X)\n",
        "\n",
        "  total = 0\n",
        "\n",
        "  for i in range(len(pca.explained_variance_ratio_)):\n",
        "    total += pca.explained_variance_ratio_[i]\n",
        "    if total >= percentage:\n",
        "      return i+1\n",
        "\n",
        "# load image data (from notebook)\n",
        "dataset = load_digits()\n",
        "\n",
        "num_PC(dataset, 0.9)"
      ],
      "metadata": {
        "id": "5PyJGq9LcgPo",
        "outputId": "27077ce5-16b3-4330-b82a-d60f1b4c4d9c",
        "colab": {
          "base_uri": "https://localhost:8080/"
        }
      },
      "execution_count": 2,
      "outputs": [
        {
          "output_type": "execute_result",
          "data": {
            "text/plain": [
              "31"
            ]
          },
          "metadata": {},
          "execution_count": 2
        }
      ]
    },
    {
      "cell_type": "code",
      "source": [
        "# testing a few EVR\n",
        "EVR = np.linspace(0, 1, 21)\n",
        "\n",
        "PC_for_EVR = [num_PC(dataset, EVR[i]) for i in range(len(EVR))]\n",
        "\n",
        "plt.scatter(EVR, PC_for_EVR)\n",
        "plt.xlabel('EVR')\n",
        "plt.ylabel('Number of PC')\n",
        "plt.show()"
      ],
      "metadata": {
        "id": "YMlcU0_YeBw3",
        "outputId": "4a78c245-aff7-4a1d-b7d5-5944eca8c7af",
        "colab": {
          "base_uri": "https://localhost:8080/",
          "height": 472
        }
      },
      "execution_count": 8,
      "outputs": [
        {
          "output_type": "display_data",
          "data": {
            "text/plain": [
              "<Figure size 640x480 with 1 Axes>"
            ],
            "image/png": "[encoded data removed]"
          },
          "metadata": {}
        }
      ]
    },
    {
      "cell_type": "code",
      "source": [
        "# comparing it with unstructered images by randmly permuting pixels from dataset\n",
        "\n",
        "images.shape"
      ],
      "metadata": {
        "id": "VNBiEpoeeo_k",
        "outputId": "3292fe63-2feb-45eb-e39c-53c643f2f520",
        "colab": {
          "base_uri": "https://localhost:8080/",
          "height": 176
        }
      },
      "execution_count": 10,
      "outputs": [
        {
          "output_type": "error",
          "ename": "NameError",
          "evalue": "name 'images' is not defined",
          "traceback": [
            "\u001b[0;31m---------------------------------------------------------------------------\u001b[0m",
            "\u001b[0;31mNameError\u001b[0m                                 Traceback (most recent call last)",
            "\u001b[0;32m<ipython-input-10-021af881d202>\u001b[0m in \u001b[0;36m<cell line: 0>\u001b[0;34m()\u001b[0m\n\u001b[1;32m      1\u001b[0m \u001b[0;31m# comparing it with unstructered images by randmly permuting pixels from dataset\u001b[0m\u001b[0;34m\u001b[0m\u001b[0;34m\u001b[0m\u001b[0m\n\u001b[1;32m      2\u001b[0m \u001b[0;34m\u001b[0m\u001b[0m\n\u001b[0;32m----> 3\u001b[0;31m \u001b[0mimages\u001b[0m\u001b[0;34m.\u001b[0m\u001b[0mshape\u001b[0m\u001b[0;34m\u001b[0m\u001b[0;34m\u001b[0m\u001b[0m\n\u001b[0m",
            "\u001b[0;31mNameError\u001b[0m: name 'images' is not defined"
          ]
        }
      ]
    },
    {
      "cell_type": "markdown",
      "metadata": {
        "id": "mfwiGMLObocA"
      },
      "source": [
        "## Exercise 2: cortical dynamics\n",
        "\n",
        "Work with the cortical data we used in the lesson. Write some code that lets you easily chose a specific behavioural event from the `trial_data` dictionary (the recorded events are `CSp` for positive conditioned stimulus, `CSn` for negative conditioned stimulus and `licks` for lick events), one of the principal components, an onset time and and offset time, and plots the timecourse of this component in the selected period around the chosen event type.\n",
        "\n",
        "Use this code to explore the data: how do different components behave? Do you notice any patterns? How would you test for the statistical significance of the effects that you see (if any)?"
      ]
    },
    {
      "cell_type": "markdown",
      "metadata": {
        "id": "BnnoLHFCboc4"
      },
      "source": [
        "## Exercise 3: nonlinear dimensionality reduction\n",
        "\n",
        "Using the MNIST digit dataset, explore the effect of hyperparameters on the result of nonlinear dimensionality reduction methods.\n",
        "\n",
        "- Change the `perplexity` and `exageration` parameters in `TNSE` (one at a time). Graphically compare the results of different values.\n",
        "- Change the neighbourhood size in `Isomap` (set by the parameter `n_neighbors`), and visualize how the results change.\n",
        "\n",
        "Finally, try to apply one or more of these methods to the cortical data we used in the lessons. How do the data look in two dimensions? Do any cluster seem to appear? Are they robust with respect to hyperparameter choice?"
      ]
    },
    {
      "cell_type": "code",
      "execution_count": null,
      "metadata": {
        "id": "w1caQc9pboc6"
      },
      "outputs": [],
      "source": []
    }
  ],
  "metadata": {
    "kernelspec": {
      "display_name": "Python 3 (ipykernel)",
      "language": "python",
      "name": "python3"
    },
    "language_info": {
      "codemirror_mode": {
        "name": "ipython",
        "version": 3
      },
      "file_extension": ".py",
      "mimetype": "text/x-python",
      "name": "python",
      "nbconvert_exporter": "python",
      "pygments_lexer": "ipython3",
      "version": "3.10.8"
    },
    "vscode": {
      "interpreter": {
        "hash": "31f2aee4e71d21fbe5cf8b01ff0e069b9275f58929596ceb00d14d90e3e16cd6"
      }
    },
    "colab": {
      "provenance": []
    }
  },
  "nbformat": 4,
  "nbformat_minor": 0
}